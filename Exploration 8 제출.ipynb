{
 "cells": [
  {
   "cell_type": "markdown",
   "id": "95e50803",
   "metadata": {},
   "source": [
    "# 프로젝트 : 뉴스기사 요약해보기"
   ]
  },
  {
   "cell_type": "markdown",
   "id": "fa67c69e",
   "metadata": {},
   "source": [
    "# Step 1. 데이터 수집하기\n",
    "\n",
    "추상적 요약을 하는 경우에는 text를 본문, headlines를 이미 요약된 데이터로 삼아서 모델을 학습할 수 있어요. 추출적 요약을 하는 경우에는 오직 text열만을 사용하세요."
   ]
  },
  {
   "cell_type": "code",
   "execution_count": 1,
   "id": "bfa88cdf",
   "metadata": {},
   "outputs": [
    {
     "name": "stderr",
     "output_type": "stream",
     "text": [
      "[nltk_data] Downloading package stopwords to /aiffel/nltk_data...\n",
      "[nltk_data]   Package stopwords is already up-to-date!\n"
     ]
    },
    {
     "name": "stdout",
     "output_type": "stream",
     "text": [
      "=3\n"
     ]
    }
   ],
   "source": [
    "import nltk\n",
    "nltk.download('stopwords')\n",
    "\n",
    "import numpy as np\n",
    "import pandas as pd\n",
    "import os\n",
    "import re\n",
    "import matplotlib.pyplot as plt\n",
    "from nltk.corpus import stopwords\n",
    "from bs4 import BeautifulSoup \n",
    "from tensorflow.keras.preprocessing.text import Tokenizer \n",
    "from tensorflow.keras.preprocessing.sequence import pad_sequences\n",
    "import urllib.request\n",
    "import warnings\n",
    "warnings.filterwarnings(\"ignore\", category=UserWarning, module='bs4')\n",
    "\n",
    "print('=3')"
   ]
  },
  {
   "cell_type": "code",
   "execution_count": 79,
   "id": "de8d9ea7",
   "metadata": {},
   "outputs": [
    {
     "name": "stdout",
     "output_type": "stream",
     "text": [
      "전체 샘플수 : 98401\n"
     ]
    }
   ],
   "source": [
    "import urllib.request\n",
    "urllib.request.urlretrieve(\"https://raw.githubusercontent.com/sunnysai12345/News_Summary/master/news_summary_more.csv\", filename=\"news_summary_more.csv\")\n",
    "data = pd.read_csv('news_summary_more.csv', encoding='iso-8859-1')\n",
    "\n",
    "print('전체 샘플수 :', (len(data)))"
   ]
  },
  {
   "cell_type": "code",
   "execution_count": 3,
   "id": "b28472e1",
   "metadata": {
    "scrolled": true
   },
   "outputs": [
    {
     "data": {
      "text/html": [
       "<div>\n",
       "<style scoped>\n",
       "    .dataframe tbody tr th:only-of-type {\n",
       "        vertical-align: middle;\n",
       "    }\n",
       "\n",
       "    .dataframe tbody tr th {\n",
       "        vertical-align: top;\n",
       "    }\n",
       "\n",
       "    .dataframe thead th {\n",
       "        text-align: right;\n",
       "    }\n",
       "</style>\n",
       "<table border=\"1\" class=\"dataframe\">\n",
       "  <thead>\n",
       "    <tr style=\"text-align: right;\">\n",
       "      <th></th>\n",
       "      <th>headlines</th>\n",
       "      <th>text</th>\n",
       "    </tr>\n",
       "  </thead>\n",
       "  <tbody>\n",
       "    <tr>\n",
       "      <th>2512</th>\n",
       "      <td>Not someone who takes shit: Zareen on slapping...</td>\n",
       "      <td>Actress Zareen Khan, while recalling an incide...</td>\n",
       "    </tr>\n",
       "    <tr>\n",
       "      <th>31728</th>\n",
       "      <td>Prez Kovind becomes 2nd President to visit Sia...</td>\n",
       "      <td>President Ram Nath Kovind on Thursday visited ...</td>\n",
       "    </tr>\n",
       "    <tr>\n",
       "      <th>63187</th>\n",
       "      <td>Zomato in talks with Swiggy for a merger: Report</td>\n",
       "      <td>Gurugram-based food discovery and ordering sta...</td>\n",
       "    </tr>\n",
       "    <tr>\n",
       "      <th>77013</th>\n",
       "      <td>Migrants to not get welfare for first five yea...</td>\n",
       "      <td>US President Donald Trump has said that migran...</td>\n",
       "    </tr>\n",
       "    <tr>\n",
       "      <th>39257</th>\n",
       "      <td>Plot to kill PM comes up when his popularity d...</td>\n",
       "      <td>After Pune Police claimed that members of bann...</td>\n",
       "    </tr>\n",
       "    <tr>\n",
       "      <th>23224</th>\n",
       "      <td>Virat Kohli smashes his first-ever Test centur...</td>\n",
       "      <td>Team India captain Virat Kohli smashed his fir...</td>\n",
       "    </tr>\n",
       "    <tr>\n",
       "      <th>19528</th>\n",
       "      <td>Attempt made to put Saibaba in voter list, Shi...</td>\n",
       "      <td>A case has been registered against an unidenti...</td>\n",
       "    </tr>\n",
       "    <tr>\n",
       "      <th>32724</th>\n",
       "      <td>Wounded bear kills Odisha man clicking selfie</td>\n",
       "      <td>An injured bear killed a man in Odisha on Wedn...</td>\n",
       "    </tr>\n",
       "    <tr>\n",
       "      <th>75912</th>\n",
       "      <td>India plans to deport 40,000 Rohingya Muslims</td>\n",
       "      <td>India is in talks with Bangladesh and Myanmar ...</td>\n",
       "    </tr>\n",
       "    <tr>\n",
       "      <th>73663</th>\n",
       "      <td>Raghuram Rajan pens book 'I Do What I Do' on h...</td>\n",
       "      <td>Former RBI Governor Raghuram Rajan has penned ...</td>\n",
       "    </tr>\n",
       "  </tbody>\n",
       "</table>\n",
       "</div>"
      ],
      "text/plain": [
       "                                               headlines  \\\n",
       "2512   Not someone who takes shit: Zareen on slapping...   \n",
       "31728  Prez Kovind becomes 2nd President to visit Sia...   \n",
       "63187   Zomato in talks with Swiggy for a merger: Report   \n",
       "77013  Migrants to not get welfare for first five yea...   \n",
       "39257  Plot to kill PM comes up when his popularity d...   \n",
       "23224  Virat Kohli smashes his first-ever Test centur...   \n",
       "19528  Attempt made to put Saibaba in voter list, Shi...   \n",
       "32724      Wounded bear kills Odisha man clicking selfie   \n",
       "75912      India plans to deport 40,000 Rohingya Muslims   \n",
       "73663  Raghuram Rajan pens book 'I Do What I Do' on h...   \n",
       "\n",
       "                                                    text  \n",
       "2512   Actress Zareen Khan, while recalling an incide...  \n",
       "31728  President Ram Nath Kovind on Thursday visited ...  \n",
       "63187  Gurugram-based food discovery and ordering sta...  \n",
       "77013  US President Donald Trump has said that migran...  \n",
       "39257  After Pune Police claimed that members of bann...  \n",
       "23224  Team India captain Virat Kohli smashed his fir...  \n",
       "19528  A case has been registered against an unidenti...  \n",
       "32724  An injured bear killed a man in Odisha on Wedn...  \n",
       "75912  India is in talks with Bangladesh and Myanmar ...  \n",
       "73663  Former RBI Governor Raghuram Rajan has penned ...  "
      ]
     },
     "execution_count": 3,
     "metadata": {},
     "output_type": "execute_result"
    }
   ],
   "source": [
    "data.sample(10)"
   ]
  },
  {
   "cell_type": "code",
   "execution_count": 4,
   "id": "66e5cf4f",
   "metadata": {},
   "outputs": [
    {
     "data": {
      "text/html": [
       "<div>\n",
       "<style scoped>\n",
       "    .dataframe tbody tr th:only-of-type {\n",
       "        vertical-align: middle;\n",
       "    }\n",
       "\n",
       "    .dataframe tbody tr th {\n",
       "        vertical-align: top;\n",
       "    }\n",
       "\n",
       "    .dataframe thead th {\n",
       "        text-align: right;\n",
       "    }\n",
       "</style>\n",
       "<table border=\"1\" class=\"dataframe\">\n",
       "  <thead>\n",
       "    <tr style=\"text-align: right;\">\n",
       "      <th></th>\n",
       "      <th>headlines</th>\n",
       "      <th>text</th>\n",
       "    </tr>\n",
       "  </thead>\n",
       "  <tbody>\n",
       "    <tr>\n",
       "      <th>0</th>\n",
       "      <td>upGrad learner switches to career in ML &amp; Al w...</td>\n",
       "      <td>Saurav Kant, an alumnus of upGrad and IIIT-B's...</td>\n",
       "    </tr>\n",
       "    <tr>\n",
       "      <th>1</th>\n",
       "      <td>Delhi techie wins free food from Swiggy for on...</td>\n",
       "      <td>Kunal Shah's credit card bill payment platform...</td>\n",
       "    </tr>\n",
       "    <tr>\n",
       "      <th>2</th>\n",
       "      <td>New Zealand end Rohit Sharma-led India's 12-ma...</td>\n",
       "      <td>New Zealand defeated India by 8 wickets in the...</td>\n",
       "    </tr>\n",
       "    <tr>\n",
       "      <th>3</th>\n",
       "      <td>Aegon life iTerm insurance plan helps customer...</td>\n",
       "      <td>With Aegon Life iTerm Insurance plan, customer...</td>\n",
       "    </tr>\n",
       "    <tr>\n",
       "      <th>4</th>\n",
       "      <td>Have known Hirani for yrs, what if MeToo claim...</td>\n",
       "      <td>Speaking about the sexual harassment allegatio...</td>\n",
       "    </tr>\n",
       "  </tbody>\n",
       "</table>\n",
       "</div>"
      ],
      "text/plain": [
       "                                           headlines  \\\n",
       "0  upGrad learner switches to career in ML & Al w...   \n",
       "1  Delhi techie wins free food from Swiggy for on...   \n",
       "2  New Zealand end Rohit Sharma-led India's 12-ma...   \n",
       "3  Aegon life iTerm insurance plan helps customer...   \n",
       "4  Have known Hirani for yrs, what if MeToo claim...   \n",
       "\n",
       "                                                text  \n",
       "0  Saurav Kant, an alumnus of upGrad and IIIT-B's...  \n",
       "1  Kunal Shah's credit card bill payment platform...  \n",
       "2  New Zealand defeated India by 8 wickets in the...  \n",
       "3  With Aegon Life iTerm Insurance plan, customer...  \n",
       "4  Speaking about the sexual harassment allegatio...  "
      ]
     },
     "execution_count": 4,
     "metadata": {},
     "output_type": "execute_result"
    }
   ],
   "source": [
    "data = data[['headlines','text']]\n",
    "data.head()"
   ]
  },
  {
   "cell_type": "markdown",
   "id": "ac7e51ad",
   "metadata": {},
   "source": [
    "# Step 2. 데이터 전처리하기 (추상적 요약)\n",
    "\n",
    "실습에서 사용된 전처리를 참고하여 각자 필요하다고 생각하는 전처리를 추가 사용하여 텍스트를 정규화 또는 정제해 보세요. 만약, 불용어 제거를 선택한다면 상대적으로 길이가 짧은 요약 데이터에 대해서도 불용어를 제거하는 것이 좋을지 고민해 보세요."
   ]
  },
  {
   "cell_type": "code",
   "execution_count": 80,
   "id": "00c228fc",
   "metadata": {},
   "outputs": [
    {
     "name": "stdout",
     "output_type": "stream",
     "text": [
      "text 열에서 중복을 배제한 유일한 샘플의 수 : 98360\n",
      "headlines 열에서 중복을 배제한 유일한 샘플의 수 : 98280\n"
     ]
    }
   ],
   "source": [
    "#중복 샘플값 & Null값이 존재하는 샘플 제거\n",
    "\n",
    "print('text 열에서 중복을 배제한 유일한 샘플의 수 :', data['text'].nunique())\n",
    "print('headlines 열에서 중복을 배제한 유일한 샘플의 수 :', data['headlines'].nunique())"
   ]
  },
  {
   "cell_type": "code",
   "execution_count": 81,
   "id": "41178224",
   "metadata": {},
   "outputs": [
    {
     "name": "stdout",
     "output_type": "stream",
     "text": [
      "전체 샘플수 : 98360\n"
     ]
    }
   ],
   "source": [
    "# inplace=True 를 설정하면 DataFrame 타입 값을 return 하지 않고 data 내부를 직접적으로 바꿉니다\n",
    "data.drop_duplicates(subset = ['text'], inplace=True)\n",
    "print('전체 샘플수 :', (len(data)))"
   ]
  },
  {
   "cell_type": "code",
   "execution_count": 82,
   "id": "5a1a7fee",
   "metadata": {},
   "outputs": [
    {
     "name": "stdout",
     "output_type": "stream",
     "text": [
      "headlines    0\n",
      "text         0\n",
      "dtype: int64\n"
     ]
    }
   ],
   "source": [
    "print(data.isnull().sum())"
   ]
  },
  {
   "cell_type": "code",
   "execution_count": 83,
   "id": "36776187",
   "metadata": {},
   "outputs": [
    {
     "name": "stdout",
     "output_type": "stream",
     "text": [
      "전체 샘플수 : 98360\n"
     ]
    }
   ],
   "source": [
    "data.dropna(axis=0, inplace=True)\n",
    "print('전체 샘플수 :', (len(data)))"
   ]
  },
  {
   "cell_type": "markdown",
   "id": "1cbfce9b",
   "metadata": {},
   "source": [
    " : null 값이 없었기 때문에 전체 샘플수에 변함이 없다\n",
    " \n",
    " \n",
    " ## 텍스트 정규화와 불용어 제거 \n",
    " * 같은 의미인데 다른 표현인 단어를 통일 시켜준다. 기계 학습 전에 이 텍스트 정규화과정을 거치면 기계의 연산량을 줄일 수 있다. \n",
    "\n",
    "+ 불용어 : 텍스트에는 자주 등장하지만 자연어처리를 할 때 실질적으로 도움되지 않는 단어들을 말함. "
   ]
  },
  {
   "cell_type": "code",
   "execution_count": 9,
   "id": "42785400",
   "metadata": {},
   "outputs": [
    {
     "name": "stdout",
     "output_type": "stream",
     "text": [
      "정규화 사전의 수:  120\n"
     ]
    }
   ],
   "source": [
    "contractions = {\"ain't\": \"is not\", \"aren't\": \"are not\",\"can't\": \"cannot\", \"'cause\": \"because\", \"could've\": \"could have\", \"couldn't\": \"could not\",\n",
    "                           \"didn't\": \"did not\",  \"doesn't\": \"does not\", \"don't\": \"do not\", \"hadn't\": \"had not\", \"hasn't\": \"has not\", \"haven't\": \"have not\",\n",
    "                           \"he'd\": \"he would\",\"he'll\": \"he will\", \"he's\": \"he is\", \"how'd\": \"how did\", \"how'd'y\": \"how do you\", \"how'll\": \"how will\", \"how's\": \"how is\",\n",
    "                           \"I'd\": \"I would\", \"I'd've\": \"I would have\", \"I'll\": \"I will\", \"I'll've\": \"I will have\",\"I'm\": \"I am\", \"I've\": \"I have\", \"i'd\": \"i would\",\n",
    "                           \"i'd've\": \"i would have\", \"i'll\": \"i will\",  \"i'll've\": \"i will have\",\"i'm\": \"i am\", \"i've\": \"i have\", \"isn't\": \"is not\", \"it'd\": \"it would\",\n",
    "                           \"it'd've\": \"it would have\", \"it'll\": \"it will\", \"it'll've\": \"it will have\",\"it's\": \"it is\", \"let's\": \"let us\", \"ma'am\": \"madam\",\n",
    "                           \"mayn't\": \"may not\", \"might've\": \"might have\",\"mightn't\": \"might not\",\"mightn't've\": \"might not have\", \"must've\": \"must have\",\n",
    "                           \"mustn't\": \"must not\", \"mustn't've\": \"must not have\", \"needn't\": \"need not\", \"needn't've\": \"need not have\",\"o'clock\": \"of the clock\",\n",
    "                           \"oughtn't\": \"ought not\", \"oughtn't've\": \"ought not have\", \"shan't\": \"shall not\", \"sha'n't\": \"shall not\", \"shan't've\": \"shall not have\",\n",
    "                           \"she'd\": \"she would\", \"she'd've\": \"she would have\", \"she'll\": \"she will\", \"she'll've\": \"she will have\", \"she's\": \"she is\",\n",
    "                           \"should've\": \"should have\", \"shouldn't\": \"should not\", \"shouldn't've\": \"should not have\", \"so've\": \"so have\",\"so's\": \"so as\",\n",
    "                           \"this's\": \"this is\",\"that'd\": \"that would\", \"that'd've\": \"that would have\", \"that's\": \"that is\", \"there'd\": \"there would\",\n",
    "                           \"there'd've\": \"there would have\", \"there's\": \"there is\", \"here's\": \"here is\",\"they'd\": \"they would\", \"they'd've\": \"they would have\",\n",
    "                           \"they'll\": \"they will\", \"they'll've\": \"they will have\", \"they're\": \"they are\", \"they've\": \"they have\", \"to've\": \"to have\",\n",
    "                           \"wasn't\": \"was not\", \"we'd\": \"we would\", \"we'd've\": \"we would have\", \"we'll\": \"we will\", \"we'll've\": \"we will have\", \"we're\": \"we are\",\n",
    "                           \"we've\": \"we have\", \"weren't\": \"were not\", \"what'll\": \"what will\", \"what'll've\": \"what will have\", \"what're\": \"what are\",\n",
    "                           \"what's\": \"what is\", \"what've\": \"what have\", \"when's\": \"when is\", \"when've\": \"when have\", \"where'd\": \"where did\", \"where's\": \"where is\",\n",
    "                           \"where've\": \"where have\", \"who'll\": \"who will\", \"who'll've\": \"who will have\", \"who's\": \"who is\", \"who've\": \"who have\",\n",
    "                           \"why's\": \"why is\", \"why've\": \"why have\", \"will've\": \"will have\", \"won't\": \"will not\", \"won't've\": \"will not have\",\n",
    "                           \"would've\": \"would have\", \"wouldn't\": \"would not\", \"wouldn't've\": \"would not have\", \"y'all\": \"you all\",\n",
    "                           \"y'all'd\": \"you all would\",\"y'all'd've\": \"you all would have\",\"y'all're\": \"you all are\",\"y'all've\": \"you all have\",\n",
    "                           \"you'd\": \"you would\", \"you'd've\": \"you would have\", \"you'll\": \"you will\", \"you'll've\": \"you will have\",\n",
    "                           \"you're\": \"you are\", \"you've\": \"you have\"}\n",
    "\n",
    "print(\"정규화 사전의 수: \", len(contractions))"
   ]
  },
  {
   "cell_type": "code",
   "execution_count": 10,
   "id": "b2dc9c97",
   "metadata": {},
   "outputs": [
    {
     "name": "stdout",
     "output_type": "stream",
     "text": [
      "불용어 개수 : 179\n",
      "['i', 'me', 'my', 'myself', 'we', 'our', 'ours', 'ourselves', 'you', \"you're\", \"you've\", \"you'll\", \"you'd\", 'your', 'yours', 'yourself', 'yourselves', 'he', 'him', 'his', 'himself', 'she', \"she's\", 'her', 'hers', 'herself', 'it', \"it's\", 'its', 'itself', 'they', 'them', 'their', 'theirs', 'themselves', 'what', 'which', 'who', 'whom', 'this', 'that', \"that'll\", 'these', 'those', 'am', 'is', 'are', 'was', 'were', 'be', 'been', 'being', 'have', 'has', 'had', 'having', 'do', 'does', 'did', 'doing', 'a', 'an', 'the', 'and', 'but', 'if', 'or', 'because', 'as', 'until', 'while', 'of', 'at', 'by', 'for', 'with', 'about', 'against', 'between', 'into', 'through', 'during', 'before', 'after', 'above', 'below', 'to', 'from', 'up', 'down', 'in', 'out', 'on', 'off', 'over', 'under', 'again', 'further', 'then', 'once', 'here', 'there', 'when', 'where', 'why', 'how', 'all', 'any', 'both', 'each', 'few', 'more', 'most', 'other', 'some', 'such', 'no', 'nor', 'not', 'only', 'own', 'same', 'so', 'than', 'too', 'very', 's', 't', 'can', 'will', 'just', 'don', \"don't\", 'should', \"should've\", 'now', 'd', 'll', 'm', 'o', 're', 've', 'y', 'ain', 'aren', \"aren't\", 'couldn', \"couldn't\", 'didn', \"didn't\", 'doesn', \"doesn't\", 'hadn', \"hadn't\", 'hasn', \"hasn't\", 'haven', \"haven't\", 'isn', \"isn't\", 'ma', 'mightn', \"mightn't\", 'mustn', \"mustn't\", 'needn', \"needn't\", 'shan', \"shan't\", 'shouldn', \"shouldn't\", 'wasn', \"wasn't\", 'weren', \"weren't\", 'won', \"won't\", 'wouldn', \"wouldn't\"]\n"
     ]
    }
   ],
   "source": [
    "print('불용어 개수 :', len(stopwords.words('english') ))\n",
    "print(stopwords.words('english'))"
   ]
  },
  {
   "cell_type": "code",
   "execution_count": 11,
   "id": "d74431e4",
   "metadata": {},
   "outputs": [
    {
     "name": "stdout",
     "output_type": "stream",
     "text": [
      "=3\n"
     ]
    }
   ],
   "source": [
    "# 데이터 전처리 함수\n",
    "def preprocess_sentence(sentence, remove_stopwords=True):\n",
    "    sentence = sentence.lower() # 텍스트 소문자화\n",
    "    sentence = BeautifulSoup(sentence, \"lxml\").text # <br />, <a href = ...> 등의 html 태그 제거\n",
    "    sentence = re.sub(r'\\([^)]*\\)', '', sentence) # 괄호로 닫힌 문자열 (...) 제거 Ex) my husband (and myself!) for => my husband for\n",
    "    sentence = re.sub('\"','', sentence) # 쌍따옴표 \" 제거\n",
    "    sentence = ' '.join([contractions[t] if t in contractions else t for t in sentence.split(\" \")]) # 약어 정규화\n",
    "    sentence = re.sub(r\"'s\\b\",\"\", sentence) # 소유격 제거. Ex) roland's -> roland\n",
    "    sentence = re.sub(\"[^a-zA-Z]\", \" \", sentence) # 영어 외 문자(숫자, 특수문자 등) 공백으로 변환\n",
    "    sentence = re.sub('[m]{2,}', 'mm', sentence) # m이 3개 이상이면 2개로 변경. Ex) ummmmmmm yeah -> umm yeah\n",
    "    \n",
    "    # 불용어 제거 (text)\n",
    "    if remove_stopwords:\n",
    "        tokens = ' '.join(word for word in sentence.split() if not word in stopwords.words('english') if len(word) > 1)\n",
    "    # 불용어 미제거 (headlines)\n",
    "    else:\n",
    "        tokens = ' '.join(word for word in sentence.split() if len(word) > 1)\n",
    "    return tokens\n",
    "print('=3')"
   ]
  },
  {
   "cell_type": "markdown",
   "id": "86f3aab2",
   "metadata": {},
   "source": [
    "### 전처리 결과 확인\n",
    "\n",
    "- 모든 알파벳이 소문자로 변함\n",
    "- html 태그 제거\n",
    "- (or finish)와 같은 괄호로 묶였던 단어 시퀀스 제거됨\n",
    "- 특수문자 제거"
   ]
  },
  {
   "cell_type": "code",
   "execution_count": 12,
   "id": "a540137b",
   "metadata": {},
   "outputs": [
    {
     "name": "stdout",
     "output_type": "stream",
     "text": [
      "text:  everything bought great infact ordered twice third ordered wasfor mother father\n",
      "headlines: great way to start the day\n"
     ]
    }
   ],
   "source": [
    "temp_text = 'Everything I bought was great, infact I ordered twice and the third ordered was<br />for my mother and father.'\n",
    "temp_headlines = 'Great way to start (or finish) the day!!!'\n",
    "\n",
    "print(\"text: \", preprocess_sentence(temp_text))\n",
    "print(\"headlines:\", preprocess_sentence(temp_headlines, False))  # 불용어를 제거하지 않습니다."
   ]
  },
  {
   "cell_type": "code",
   "execution_count": 13,
   "id": "a4e2d0e2",
   "metadata": {},
   "outputs": [
    {
     "name": "stdout",
     "output_type": "stream",
     "text": [
      "Text 전처리 후 결과:  ['saurav kant alumnus upgrad iiit pg program machine learning artificial intelligence sr systems engineer infosys almost years work experience program upgrad degree career support helped transition data scientist tech mahindra salary hike upgrad online power learning powered lakh careers', 'kunal shah credit card bill payment platform cred gave users chance win free food swiggy one year pranav kaushik delhi techie bagged reward spending cred coins users get one cred coin per rupee bill paid used avail rewards brands like ixigo bookmyshow ubereats cult fit', 'new zealand defeated india wickets fourth odi hamilton thursday win first match five match odi series india lost international match rohit sharma captaincy consecutive victories dating back march match witnessed india getting seventh lowest total odi cricket history', 'aegon life iterm insurance plan customers enjoy tax benefits premiums paid save taxes plan provides life cover age years also customers options insure critical illnesses disability accidental death benefit rider life cover age years', 'speaking sexual harassment allegations rajkumar hirani sonam kapoor said known hirani many years true metoo movement get derailed metoo movement always believe woman case need reserve judgment added hirani accused assistant worked sanju']\n"
     ]
    }
   ],
   "source": [
    "clean_text = []\n",
    "# 전체 Text 데이터에 대한 전처리 : 10분 이상 시간이 걸릴 수 있습니다. \n",
    "for s in data['text']:\n",
    "    clean_text.append(preprocess_sentence(s))\n",
    "\n",
    "# 전처리 후 출력\n",
    "print(\"Text 전처리 후 결과: \", clean_text[:5])"
   ]
  },
  {
   "cell_type": "markdown",
   "id": "1ad0e09d",
   "metadata": {},
   "source": [
    "Summary에 대해 전처리 함수를 호출할 때 False를 사용한다. 이는 불용어 제거를 하지 않는다는 의미이다."
   ]
  },
  {
   "cell_type": "code",
   "execution_count": 14,
   "id": "26f3a0e8",
   "metadata": {},
   "outputs": [
    {
     "name": "stdout",
     "output_type": "stream",
     "text": [
      "headlines 전처리 후 결과:  ['upgrad learner switches to career in ml al with salary hike', 'delhi techie wins free food from swiggy for one year on cred', 'new zealand end rohit sharma led india match winning streak', 'aegon life iterm insurance plan helps customers save tax', 'have known hirani for yrs what if metoo claims are not true sonam']\n"
     ]
    }
   ],
   "source": [
    "clean_headlines = []\n",
    "# 전체 headlines 데이터에 대한 전처리 : 5분 이상 시간이 걸릴 수 있습니다. \n",
    "for s in data['headlines']:\n",
    "    clean_headlines.append(preprocess_sentence(s, False))\n",
    "\n",
    "print(\"headlines 전처리 후 결과: \", clean_headlines[:5])"
   ]
  },
  {
   "cell_type": "code",
   "execution_count": 15,
   "id": "f26c5559",
   "metadata": {},
   "outputs": [
    {
     "name": "stdout",
     "output_type": "stream",
     "text": [
      "=3\n"
     ]
    }
   ],
   "source": [
    "data['text'] = clean_text\n",
    "data['headlines'] = clean_headlines\n",
    "\n",
    "# 빈 값을 Null 값으로 변환\n",
    "data.replace('', np.nan, inplace=True)\n",
    "print('=3')"
   ]
  },
  {
   "cell_type": "code",
   "execution_count": 16,
   "id": "10b8e83f",
   "metadata": {},
   "outputs": [
    {
     "data": {
      "text/plain": [
       "headlines    0\n",
       "text         0\n",
       "dtype: int64"
      ]
     },
     "execution_count": 16,
     "metadata": {},
     "output_type": "execute_result"
    }
   ],
   "source": [
    "data.isnull().sum()"
   ]
  },
  {
   "cell_type": "code",
   "execution_count": 17,
   "id": "0a56179a",
   "metadata": {},
   "outputs": [
    {
     "name": "stdout",
     "output_type": "stream",
     "text": [
      "전체 샘플수 : 98360\n"
     ]
    }
   ],
   "source": [
    "data.dropna(axis=0, inplace=True)\n",
    "print('전체 샘플수 :', (len(data)))"
   ]
  },
  {
   "cell_type": "markdown",
   "id": "73574952",
   "metadata": {},
   "source": [
    "# 데이터 전처리하기 - 2 : 훈련데이터와 테스트데이터 나누기\n",
    "\n",
    "## 샘플의 최대 길이 정하기\n",
    "훈련에 사용할 샘플의 최대 길이를 정해준다. \n",
    "\n",
    "text와 summary의 최소,최대,평균 길이를 구하고 또한 길이 분포를 시각화 한다"
   ]
  },
  {
   "cell_type": "code",
   "execution_count": 18,
   "id": "05acc339",
   "metadata": {},
   "outputs": [
    {
     "name": "stdout",
     "output_type": "stream",
     "text": [
      "텍스트의 최소 길이 : 1\n",
      "텍스트의 최대 길이 : 60\n",
      "텍스트의 평균 길이 : 35.09968483123221\n",
      "헤드라인의 최소 길이 : 1\n",
      "헤드라인의 최대 길이 : 16\n",
      "헤드라인의 평균 길이 : 9.299532330215534\n"
     ]
    },
    {
     "data": {
      "image/png": "[encoded data removed]",
      "text/plain": [
       "<Figure size 432x288 with 2 Axes>"
      ]
     },
     "metadata": {
      "needs_background": "light"
     },
     "output_type": "display_data"
    },
    {
     "data": {
      "image/png": "[encoded data removed]",
      "text/plain": [
       "<Figure size 432x288 with 1 Axes>"
      ]
     },
     "metadata": {
      "needs_background": "light"
     },
     "output_type": "display_data"
    },
    {
     "data": {
      "image/png": "[encoded data removed]",
      "text/plain": [
       "<Figure size 432x288 with 1 Axes>"
      ]
     },
     "metadata": {
      "needs_background": "light"
     },
     "output_type": "display_data"
    }
   ],
   "source": [
    "# 길이 분포 출력\n",
    "import matplotlib.pyplot as plt\n",
    "\n",
    "text_len = [len(s.split()) for s in data['text']]\n",
    "headlines_len = [len(s.split()) for s in data['headlines']]\n",
    "\n",
    "print('텍스트의 최소 길이 : {}'.format(np.min(text_len)))\n",
    "print('텍스트의 최대 길이 : {}'.format(np.max(text_len)))\n",
    "print('텍스트의 평균 길이 : {}'.format(np.mean(text_len)))\n",
    "print('헤드라인의 최소 길이 : {}'.format(np.min(headlines_len)))\n",
    "print('헤드라인의 최대 길이 : {}'.format(np.max(headlines_len)))\n",
    "print('헤드라인의 평균 길이 : {}'.format(np.mean(headlines_len)))\n",
    "\n",
    "plt.subplot(1,2,1)\n",
    "plt.boxplot(text_len)\n",
    "plt.title('text')\n",
    "plt.subplot(1,2,2)\n",
    "plt.boxplot(headlines_len)\n",
    "plt.title('Headlines')\n",
    "plt.tight_layout()\n",
    "plt.show()\n",
    "\n",
    "plt.title('text')\n",
    "plt.hist(text_len, bins = 40)\n",
    "plt.xlabel('length of samples')\n",
    "plt.ylabel('number of samples')\n",
    "plt.show()\n",
    "\n",
    "plt.title('Headlines')\n",
    "plt.hist(headlines_len, bins = 40)\n",
    "plt.xlabel('length of samples')\n",
    "plt.ylabel('number of samples')\n",
    "plt.show()"
   ]
  },
  {
   "cell_type": "markdown",
   "id": "b4c873ca",
   "metadata": {},
   "source": [
    "text는 대체적으로 20에서 50 사이의 길이를 갖고 있으며 30~40 사이가 가장 많이 분포하는 길이다. \n",
    "text의 길이는 연속적인 모습을 보이는 반면에 Headlines은 불연속적인 분포를 보인다.\n",
    "사실 이것은 그래프의 x축의 간격의 차이가 원인이라고 생각된다. 어차피 문장의 길이는 정수의 값을 갖기 때문에 만약 x축의 간격이 같다면 불연속적인 막대 그래프 모양으로 보일 것이다. "
   ]
  },
  {
   "cell_type": "code",
   "execution_count": 19,
   "id": "a0b30296",
   "metadata": {},
   "outputs": [
    {
     "name": "stdout",
     "output_type": "stream",
     "text": [
      "=3\n"
     ]
    }
   ],
   "source": [
    "text_max_len = 40\n",
    "headlines_max_len = 15\n",
    "print('=3')"
   ]
  },
  {
   "cell_type": "code",
   "execution_count": 20,
   "id": "0699bfbe",
   "metadata": {},
   "outputs": [
    {
     "name": "stdout",
     "output_type": "stream",
     "text": [
      "=3\n"
     ]
    }
   ],
   "source": [
    "def below_threshold_len(max_len, nested_list):\n",
    "  cnt = 0\n",
    "  for s in nested_list:\n",
    "    if(len(s.split()) <= max_len):\n",
    "        cnt = cnt + 1\n",
    "  print('전체 샘플 중 길이가 %s 이하인 샘플의 비율: %s'%(max_len, (cnt / len(nested_list))))\n",
    "print('=3')"
   ]
  },
  {
   "cell_type": "code",
   "execution_count": 21,
   "id": "27ecd168",
   "metadata": {},
   "outputs": [
    {
     "name": "stdout",
     "output_type": "stream",
     "text": [
      "전체 샘플 중 길이가 40 이하인 샘플의 비율: 0.9238714924766165\n",
      "전체 샘플 중 길이가 15 이하인 샘플의 비율: 0.9999694997966653\n"
     ]
    }
   ],
   "source": [
    "below_threshold_len(text_max_len, data['text'])\n",
    "below_threshold_len(headlines_max_len,  data['headlines'])"
   ]
  },
  {
   "cell_type": "code",
   "execution_count": 22,
   "id": "9d0096ef",
   "metadata": {},
   "outputs": [
    {
     "name": "stdout",
     "output_type": "stream",
     "text": [
      "전체 샘플수 : 90869\n"
     ]
    }
   ],
   "source": [
    "data = data[data['text'].apply(lambda x: len(x.split()) <= text_max_len)]\n",
    "data = data[data['headlines'].apply(lambda x: len(x.split()) <= headlines_max_len)]\n",
    "print('전체 샘플수 :', (len(data)))"
   ]
  },
  {
   "cell_type": "code",
   "execution_count": 23,
   "id": "6703e83a",
   "metadata": {},
   "outputs": [
    {
     "data": {
      "text/html": [
       "<div>\n",
       "<style scoped>\n",
       "    .dataframe tbody tr th:only-of-type {\n",
       "        vertical-align: middle;\n",
       "    }\n",
       "\n",
       "    .dataframe tbody tr th {\n",
       "        vertical-align: top;\n",
       "    }\n",
       "\n",
       "    .dataframe thead th {\n",
       "        text-align: right;\n",
       "    }\n",
       "</style>\n",
       "<table border=\"1\" class=\"dataframe\">\n",
       "  <thead>\n",
       "    <tr style=\"text-align: right;\">\n",
       "      <th></th>\n",
       "      <th>headlines</th>\n",
       "      <th>text</th>\n",
       "      <th>decoder_input</th>\n",
       "      <th>decoder_target</th>\n",
       "    </tr>\n",
       "  </thead>\n",
       "  <tbody>\n",
       "    <tr>\n",
       "      <th>0</th>\n",
       "      <td>upgrad learner switches to career in ml al wit...</td>\n",
       "      <td>saurav kant alumnus upgrad iiit pg program mac...</td>\n",
       "      <td>sostoken upgrad learner switches to career in ...</td>\n",
       "      <td>upgrad learner switches to career in ml al wit...</td>\n",
       "    </tr>\n",
       "    <tr>\n",
       "      <th>2</th>\n",
       "      <td>new zealand end rohit sharma led india match w...</td>\n",
       "      <td>new zealand defeated india wickets fourth odi ...</td>\n",
       "      <td>sostoken new zealand end rohit sharma led indi...</td>\n",
       "      <td>new zealand end rohit sharma led india match w...</td>\n",
       "    </tr>\n",
       "    <tr>\n",
       "      <th>3</th>\n",
       "      <td>aegon life iterm insurance plan helps customer...</td>\n",
       "      <td>aegon life iterm insurance plan customers enjo...</td>\n",
       "      <td>sostoken aegon life iterm insurance plan helps...</td>\n",
       "      <td>aegon life iterm insurance plan helps customer...</td>\n",
       "    </tr>\n",
       "    <tr>\n",
       "      <th>4</th>\n",
       "      <td>have known hirani for yrs what if metoo claims...</td>\n",
       "      <td>speaking sexual harassment allegations rajkuma...</td>\n",
       "      <td>sostoken have known hirani for yrs what if met...</td>\n",
       "      <td>have known hirani for yrs what if metoo claims...</td>\n",
       "    </tr>\n",
       "    <tr>\n",
       "      <th>5</th>\n",
       "      <td>rahat fateh ali khan denies getting notice for...</td>\n",
       "      <td>pakistani singer rahat fateh ali khan denied r...</td>\n",
       "      <td>sostoken rahat fateh ali khan denies getting n...</td>\n",
       "      <td>rahat fateh ali khan denies getting notice for...</td>\n",
       "    </tr>\n",
       "  </tbody>\n",
       "</table>\n",
       "</div>"
      ],
      "text/plain": [
       "                                           headlines  \\\n",
       "0  upgrad learner switches to career in ml al wit...   \n",
       "2  new zealand end rohit sharma led india match w...   \n",
       "3  aegon life iterm insurance plan helps customer...   \n",
       "4  have known hirani for yrs what if metoo claims...   \n",
       "5  rahat fateh ali khan denies getting notice for...   \n",
       "\n",
       "                                                text  \\\n",
       "0  saurav kant alumnus upgrad iiit pg program mac...   \n",
       "2  new zealand defeated india wickets fourth odi ...   \n",
       "3  aegon life iterm insurance plan customers enjo...   \n",
       "4  speaking sexual harassment allegations rajkuma...   \n",
       "5  pakistani singer rahat fateh ali khan denied r...   \n",
       "\n",
       "                                       decoder_input  \\\n",
       "0  sostoken upgrad learner switches to career in ...   \n",
       "2  sostoken new zealand end rohit sharma led indi...   \n",
       "3  sostoken aegon life iterm insurance plan helps...   \n",
       "4  sostoken have known hirani for yrs what if met...   \n",
       "5  sostoken rahat fateh ali khan denies getting n...   \n",
       "\n",
       "                                      decoder_target  \n",
       "0  upgrad learner switches to career in ml al wit...  \n",
       "2  new zealand end rohit sharma led india match w...  \n",
       "3  aegon life iterm insurance plan helps customer...  \n",
       "4  have known hirani for yrs what if metoo claims...  \n",
       "5  rahat fateh ali khan denies getting notice for...  "
      ]
     },
     "execution_count": 23,
     "metadata": {},
     "output_type": "execute_result"
    }
   ],
   "source": [
    "# 헤드라인 데이터에는 시작 토큰과 종료 토큰을 추가한다.\n",
    "data['decoder_input'] = data['headlines'].apply(lambda x : 'sostoken '+ x)\n",
    "data['decoder_target'] = data['headlines'].apply(lambda x : x + ' eostoken')\n",
    "data.head()"
   ]
  },
  {
   "cell_type": "code",
   "execution_count": 24,
   "id": "191a158a",
   "metadata": {},
   "outputs": [
    {
     "name": "stdout",
     "output_type": "stream",
     "text": [
      "=3\n"
     ]
    }
   ],
   "source": [
    "encoder_input = np.array(data['text']) # 인코더의 입력\n",
    "decoder_input = np.array(data['decoder_input']) # 디코더의 입력\n",
    "decoder_target = np.array(data['decoder_target']) # 디코더의 레이블\n",
    "print('=3')"
   ]
  },
  {
   "cell_type": "code",
   "execution_count": 25,
   "id": "43517158",
   "metadata": {},
   "outputs": [
    {
     "name": "stdout",
     "output_type": "stream",
     "text": [
      "[68693 39040 90392 ...  1251 61325 69046]\n"
     ]
    }
   ],
   "source": [
    "indices = np.arange(encoder_input.shape[0])\n",
    "np.random.shuffle(indices)\n",
    "print(indices)"
   ]
  },
  {
   "cell_type": "code",
   "execution_count": 26,
   "id": "2acdafb1",
   "metadata": {},
   "outputs": [
    {
     "name": "stdout",
     "output_type": "stream",
     "text": [
      "=3\n"
     ]
    }
   ],
   "source": [
    "encoder_input = encoder_input[indices]\n",
    "decoder_input = decoder_input[indices]\n",
    "decoder_target = decoder_target[indices]\n",
    "print('=3')"
   ]
  },
  {
   "cell_type": "code",
   "execution_count": 27,
   "id": "da644b9b",
   "metadata": {},
   "outputs": [
    {
     "name": "stdout",
     "output_type": "stream",
     "text": [
      "테스트 데이터의 수 : 18173\n"
     ]
    }
   ],
   "source": [
    "n_of_val = int(len(encoder_input)*0.2)\n",
    "print('테스트 데이터의 수 :', n_of_val)"
   ]
  },
  {
   "cell_type": "code",
   "execution_count": 28,
   "id": "deddc71e",
   "metadata": {},
   "outputs": [
    {
     "name": "stdout",
     "output_type": "stream",
     "text": [
      "훈련 데이터의 개수 : 72696\n",
      "훈련 레이블의 개수 : 72696\n",
      "테스트 데이터의 개수 : 18173\n",
      "테스트 레이블의 개수 : 18173\n"
     ]
    }
   ],
   "source": [
    "encoder_input_train = encoder_input[:-n_of_val]\n",
    "decoder_input_train = decoder_input[:-n_of_val]\n",
    "decoder_target_train = decoder_target[:-n_of_val]\n",
    "\n",
    "encoder_input_test = encoder_input[-n_of_val:]\n",
    "decoder_input_test = decoder_input[-n_of_val:]\n",
    "decoder_target_test = decoder_target[-n_of_val:]\n",
    "\n",
    "print('훈련 데이터의 개수 :', len(encoder_input_train))\n",
    "print('훈련 레이블의 개수 :', len(decoder_input_train))\n",
    "print('테스트 데이터의 개수 :', len(encoder_input_test))\n",
    "print('테스트 레이블의 개수 :', len(decoder_input_test))"
   ]
  },
  {
   "cell_type": "markdown",
   "id": "b03386de",
   "metadata": {},
   "source": [
    "## 데이터 전처리하기 - 3 정수 인코딩\n",
    "\n",
    "### 단어 집합 만들기 및 정수 인코딩\n",
    "\n",
    "#### 단어 집합 만들기 : 기계가 텍스트를 숫자로 처리할 수 있도록 단어들을 정수로 바꿔주는 과정. 각 단어에 고유한 정수를 맵핑하는 작업\n",
    "\n",
    "케라스의 토크나이저를 사용하여 input train data로부터 단어 집합을 만든다. "
   ]
  },
  {
   "cell_type": "code",
   "execution_count": 29,
   "id": "c1014e55",
   "metadata": {},
   "outputs": [
    {
     "name": "stdout",
     "output_type": "stream",
     "text": [
      "=3\n"
     ]
    }
   ],
   "source": [
    "src_tokenizer = Tokenizer() # 토크나이저 정의\n",
    "src_tokenizer.fit_on_texts(encoder_input_train) # 입력된 데이터로부터 단어 집합 생성\n",
    "print('=3')"
   ]
  },
  {
   "cell_type": "code",
   "execution_count": 30,
   "id": "73237cf0",
   "metadata": {},
   "outputs": [
    {
     "name": "stdout",
     "output_type": "stream",
     "text": [
      "단어 집합(vocabulary)의 크기 : 65844\n",
      "등장 빈도가 6번 이하인 희귀 단어의 수: 44778\n",
      "단어 집합에서 희귀 단어를 제외시킬 경우의 단어 집합의 크기 21066\n",
      "단어 집합에서 희귀 단어의 비율: 68.00619646437033\n",
      "전체 등장 빈도에서 희귀 단어 등장 빈도 비율: 3.6215487533507202\n"
     ]
    }
   ],
   "source": [
    "threshold = 7\n",
    "total_cnt = len(src_tokenizer.word_index) # 단어의 수\n",
    "rare_cnt = 0 # 등장 빈도수가 threshold보다 작은 단어의 개수를 카운트\n",
    "total_freq = 0 # 훈련 데이터의 전체 단어 빈도수 총 합\n",
    "rare_freq = 0 # 등장 빈도수가 threshold보다 작은 단어의 등장 빈도수의 총 합\n",
    "\n",
    "# 단어와 빈도수의 쌍(pair)을 key와 value로 받는다.\n",
    "for key, value in src_tokenizer.word_counts.items():\n",
    "    total_freq = total_freq + value\n",
    "\n",
    "    # 단어의 등장 빈도수가 threshold보다 작으면\n",
    "    if(value < threshold):\n",
    "        rare_cnt = rare_cnt + 1\n",
    "        rare_freq = rare_freq + value\n",
    "\n",
    "print('단어 집합(vocabulary)의 크기 :', total_cnt)\n",
    "print('등장 빈도가 %s번 이하인 희귀 단어의 수: %s'%(threshold - 1, rare_cnt))\n",
    "print('단어 집합에서 희귀 단어를 제외시킬 경우의 단어 집합의 크기 %s'%(total_cnt - rare_cnt))\n",
    "print(\"단어 집합에서 희귀 단어의 비율:\", (rare_cnt / total_cnt)*100)\n",
    "print(\"전체 등장 빈도에서 희귀 단어 등장 빈도 비율:\", (rare_freq / total_freq)*100)"
   ]
  },
  {
   "cell_type": "code",
   "execution_count": 31,
   "id": "81cb7739",
   "metadata": {},
   "outputs": [
    {
     "name": "stdout",
     "output_type": "stream",
     "text": [
      "=3\n"
     ]
    }
   ],
   "source": [
    "src_vocab = 8000\n",
    "src_tokenizer = Tokenizer(num_words=src_vocab) # 단어 집합의 크기를 8,000으로 제한\n",
    "src_tokenizer.fit_on_texts(encoder_input_train) # 단어 집합 재생성\n",
    "print('=3')"
   ]
  },
  {
   "cell_type": "code",
   "execution_count": 32,
   "id": "12d0eb5f",
   "metadata": {},
   "outputs": [
    {
     "name": "stdout",
     "output_type": "stream",
     "text": [
      "[[195, 534, 323, 19, 485, 2407, 21, 211, 361, 2990, 4245, 90, 22, 1648, 1798, 473, 3132, 29, 1, 6073, 215, 23, 323, 19, 1214, 104, 13, 1214, 1024, 303, 395, 207, 1190, 660, 20, 5165, 3132], [18, 1112, 680, 2517, 98, 4579, 899, 12, 186, 713, 697, 1328, 221, 70, 172, 12, 186, 78, 3215, 2448, 3950, 680, 2517, 4385, 697, 5492, 2448, 713, 6680, 22, 963], [72, 1208, 1224, 1, 9, 154, 391, 4782, 3514, 13, 14, 622, 2, 398, 508, 3166, 3514, 2010, 1471, 180, 2132, 2691, 752, 979, 72, 818, 1543, 66, 567, 791, 1161, 3514]]\n"
     ]
    }
   ],
   "source": [
    "# 텍스트 시퀀스를 정수 시퀀스로 변환\n",
    "encoder_input_train = src_tokenizer.texts_to_sequences(encoder_input_train) \n",
    "encoder_input_test = src_tokenizer.texts_to_sequences(encoder_input_test)\n",
    "\n",
    "# 잘 진행되었는지 샘플 출력\n",
    "print(encoder_input_train[:3])"
   ]
  },
  {
   "cell_type": "code",
   "execution_count": 33,
   "id": "21cc9489",
   "metadata": {},
   "outputs": [
    {
     "name": "stdout",
     "output_type": "stream",
     "text": [
      "=3\n"
     ]
    }
   ],
   "source": [
    "tar_tokenizer = Tokenizer()\n",
    "tar_tokenizer.fit_on_texts(decoder_input_train)\n",
    "print('=3')"
   ]
  },
  {
   "cell_type": "code",
   "execution_count": 34,
   "id": "bcce6128",
   "metadata": {},
   "outputs": [
    {
     "name": "stdout",
     "output_type": "stream",
     "text": [
      "단어 집합(vocabulary)의 크기 : 28904\n",
      "등장 빈도가 5번 이하인 희귀 단어의 수: 18949\n",
      "단어 집합에서 희귀 단어를 제외시킬 경우의 단어 집합의 크기 9955\n",
      "단어 집합에서 희귀 단어의 비율: 65.55840022142264\n",
      "전체 등장 빈도에서 희귀 단어 등장 빈도 비율: 4.857709595335573\n"
     ]
    }
   ],
   "source": [
    "threshold = 6\n",
    "total_cnt = len(tar_tokenizer.word_index) # 단어의 수\n",
    "rare_cnt = 0 # 등장 빈도수가 threshold보다 작은 단어의 개수를 카운트\n",
    "total_freq = 0 # 훈련 데이터의 전체 단어 빈도수 총 합\n",
    "rare_freq = 0 # 등장 빈도수가 threshold보다 작은 단어의 등장 빈도수의 총 합\n",
    "\n",
    "# 단어와 빈도수의 쌍(pair)을 key와 value로 받는다.\n",
    "for key, value in tar_tokenizer.word_counts.items():\n",
    "    total_freq = total_freq + value\n",
    "\n",
    "    # 단어의 등장 빈도수가 threshold보다 작으면\n",
    "    if(value < threshold):\n",
    "        rare_cnt = rare_cnt + 1\n",
    "        rare_freq = rare_freq + value\n",
    "\n",
    "print('단어 집합(vocabulary)의 크기 :', total_cnt)\n",
    "print('등장 빈도가 %s번 이하인 희귀 단어의 수: %s'%(threshold - 1, rare_cnt))\n",
    "print('단어 집합에서 희귀 단어를 제외시킬 경우의 단어 집합의 크기 %s'%(total_cnt - rare_cnt))\n",
    "print(\"단어 집합에서 희귀 단어의 비율:\", (rare_cnt / total_cnt)*100)\n",
    "print(\"전체 등장 빈도에서 희귀 단어 등장 빈도 비율:\", (rare_freq / total_freq)*100)"
   ]
  },
  {
   "cell_type": "code",
   "execution_count": 35,
   "id": "440f0782",
   "metadata": {},
   "outputs": [
    {
     "name": "stdout",
     "output_type": "stream",
     "text": [
      "input\n",
      "input  [[1, 236, 368, 3, 231, 32, 3], [1, 116, 374, 745, 1439, 3, 1081, 268], [1, 108, 74, 667, 888, 152, 533, 1536], [1, 374, 11, 1170, 627], [1, 1296, 1571, 62, 686, 11, 1725]]\n",
      "target\n",
      "decoder  [[236, 368, 3, 231, 32, 3, 2], [116, 374, 745, 1439, 3, 1081, 268, 2], [108, 74, 667, 888, 152, 533, 1536, 2], [374, 11, 1170, 627, 2], [1296, 1571, 62, 686, 11, 1725, 2]]\n"
     ]
    }
   ],
   "source": [
    "tar_vocab = 2000\n",
    "tar_tokenizer = Tokenizer(num_words=tar_vocab) \n",
    "tar_tokenizer.fit_on_texts(decoder_input_train)\n",
    "tar_tokenizer.fit_on_texts(decoder_target_train)\n",
    "\n",
    "# 텍스트 시퀀스를 정수 시퀀스로 변환\n",
    "decoder_input_train = tar_tokenizer.texts_to_sequences(decoder_input_train) \n",
    "decoder_target_train = tar_tokenizer.texts_to_sequences(decoder_target_train)\n",
    "decoder_input_test = tar_tokenizer.texts_to_sequences(decoder_input_test)\n",
    "decoder_target_test = tar_tokenizer.texts_to_sequences(decoder_target_test)\n",
    "\n",
    "# 잘 변환되었는지 확인\n",
    "print('input')\n",
    "print('input ',decoder_input_train[:5])\n",
    "print('target')\n",
    "print('decoder ',decoder_target_train[:5])"
   ]
  },
  {
   "cell_type": "code",
   "execution_count": 36,
   "id": "c450f5ae",
   "metadata": {},
   "outputs": [
    {
     "name": "stdout",
     "output_type": "stream",
     "text": [
      "삭제할 훈련 데이터의 개수 : 11\n",
      "삭제할 테스트 데이터의 개수 : 3\n",
      "훈련 데이터의 개수 : 72685\n",
      "훈련 레이블의 개수 : 72685\n",
      "테스트 데이터의 개수 : 18170\n",
      "테스트 레이블의 개수 : 18170\n"
     ]
    }
   ],
   "source": [
    "drop_train = [index for index, sentence in enumerate(decoder_input_train) if len(sentence) == 1]\n",
    "drop_test = [index for index, sentence in enumerate(decoder_input_test) if len(sentence) == 1]\n",
    "\n",
    "print('삭제할 훈련 데이터의 개수 :', len(drop_train))\n",
    "print('삭제할 테스트 데이터의 개수 :', len(drop_test))\n",
    "\n",
    "encoder_input_train = [sentence for index, sentence in enumerate(encoder_input_train) if index not in drop_train]\n",
    "decoder_input_train = [sentence for index, sentence in enumerate(decoder_input_train) if index not in drop_train]\n",
    "decoder_target_train = [sentence for index, sentence in enumerate(decoder_target_train) if index not in drop_train]\n",
    "\n",
    "encoder_input_test = [sentence for index, sentence in enumerate(encoder_input_test) if index not in drop_test]\n",
    "decoder_input_test = [sentence for index, sentence in enumerate(decoder_input_test) if index not in drop_test]\n",
    "decoder_target_test = [sentence for index, sentence in enumerate(decoder_target_test) if index not in drop_test]\n",
    "\n",
    "print('훈련 데이터의 개수 :', len(encoder_input_train))\n",
    "print('훈련 레이블의 개수 :', len(decoder_input_train))\n",
    "print('테스트 데이터의 개수 :', len(encoder_input_test))\n",
    "print('테스트 레이블의 개수 :', len(decoder_input_test))"
   ]
  },
  {
   "cell_type": "code",
   "execution_count": 37,
   "id": "e8a0ecfa",
   "metadata": {},
   "outputs": [
    {
     "name": "stdout",
     "output_type": "stream",
     "text": [
      "=3\n"
     ]
    }
   ],
   "source": [
    "encoder_input_train = pad_sequences(encoder_input_train, maxlen=text_max_len, padding='post')\n",
    "encoder_input_test = pad_sequences(encoder_input_test, maxlen=text_max_len, padding='post')\n",
    "decoder_input_train = pad_sequences(decoder_input_train, maxlen=headlines_max_len, padding='post')\n",
    "decoder_target_train = pad_sequences(decoder_target_train, maxlen=headlines_max_len, padding='post')\n",
    "decoder_input_test = pad_sequences(decoder_input_test, maxlen=headlines_max_len, padding='post')\n",
    "decoder_target_test = pad_sequences(decoder_target_test, maxlen=headlines_max_len, padding='post')\n",
    "print('=3') "
   ]
  },
  {
   "cell_type": "markdown",
   "id": "acb5a167",
   "metadata": {},
   "source": [
    "## 학습을 위한 전처리~ 완료!"
   ]
  },
  {
   "cell_type": "markdown",
   "id": "2fa8ee57",
   "metadata": {},
   "source": [
    "# 모델 설계하기"
   ]
  },
  {
   "cell_type": "code",
   "execution_count": 38,
   "id": "0242699a",
   "metadata": {
    "scrolled": true
   },
   "outputs": [
    {
     "name": "stdout",
     "output_type": "stream",
     "text": [
      "WARNING:tensorflow:Layer lstm will not use cuDNN kernels since it doesn't meet the criteria. It will use a generic GPU kernel as fallback when running on GPU.\n",
      "WARNING:tensorflow:Layer lstm_1 will not use cuDNN kernels since it doesn't meet the criteria. It will use a generic GPU kernel as fallback when running on GPU.\n",
      "WARNING:tensorflow:Layer lstm_2 will not use cuDNN kernels since it doesn't meet the criteria. It will use a generic GPU kernel as fallback when running on GPU.\n"
     ]
    }
   ],
   "source": [
    "from tensorflow.keras.layers import Input, LSTM, Embedding, Dense, Concatenate, TimeDistributed\n",
    "from tensorflow.keras.models import Model\n",
    "from tensorflow.keras.callbacks import EarlyStopping, ModelCheckpoint\n",
    "\n",
    "\n",
    "# 인코더 설계 시작\n",
    "embedding_dim = 128\n",
    "hidden_size = 256\n",
    "\n",
    "# 인코더\n",
    "encoder_inputs = Input(shape=(text_max_len,))\n",
    "\n",
    "# 인코더의 임베딩 층\n",
    "enc_emb = Embedding(src_vocab, embedding_dim)(encoder_inputs)\n",
    "\n",
    "# 인코더의 LSTM 1\n",
    "encoder_lstm1 = LSTM(hidden_size, return_sequences=True, return_state=True ,dropout = 0.4, recurrent_dropout = 0.4)\n",
    "encoder_output1, state_h1, state_c1 = encoder_lstm1(enc_emb)\n",
    "\n",
    "# 인코더의 LSTM 2\n",
    "encoder_lstm2 = LSTM(hidden_size, return_sequences=True, return_state=True, dropout=0.4, recurrent_dropout=0.4)\n",
    "encoder_output2, state_h2, state_c2 = encoder_lstm2(encoder_output1)\n",
    "\n",
    "# 인코더의 LSTM 3\n",
    "encoder_lstm3 = LSTM(hidden_size, return_state=True, return_sequences=True, dropout=0.4, recurrent_dropout=0.4)\n",
    "encoder_outputs, state_h, state_c= encoder_lstm3(encoder_output2)"
   ]
  },
  {
   "cell_type": "markdown",
   "id": "632e4c15",
   "metadata": {},
   "source": [
    "hidden state : LSTM에서 얼만큼의 수용력을 가질지를 정하는 파라미터다. ( = LSTM의 용량의 크기/LSTM에서의 뉴런의 개수) 무조건 용량을 많이 준다고 해서 성능이 무조건 올라가는 것은 아니다.\n",
    "\n",
    "dropout : 레이어의 가중치를 랜덤으로 생략해서 모델의 과적합을 해결해주는 방법이다.\n",
    "\n",
    "recurrent dropout : dropout을 레이어가 아닌 time step마다 해주는 방식이다."
   ]
  },
  {
   "cell_type": "code",
   "execution_count": 39,
   "id": "0f5e5d0d",
   "metadata": {},
   "outputs": [
    {
     "name": "stdout",
     "output_type": "stream",
     "text": [
      "WARNING:tensorflow:Layer lstm_3 will not use cuDNN kernels since it doesn't meet the criteria. It will use a generic GPU kernel as fallback when running on GPU.\n"
     ]
    }
   ],
   "source": [
    "# 디코더 설계\n",
    "decoder_inputs = Input(shape=(None,))\n",
    "\n",
    "# 디코더의 임베딩 층\n",
    "dec_emb_layer = Embedding(tar_vocab, embedding_dim)\n",
    "dec_emb = dec_emb_layer(decoder_inputs)\n",
    "\n",
    "# 디코더의 LSTM\n",
    "decoder_lstm = LSTM(hidden_size, return_sequences=True, return_state=True, dropout=0.4, recurrent_dropout=0.2)\n",
    "decoder_outputs, _, _ = decoder_lstm(dec_emb, initial_state=[state_h, state_c])"
   ]
  },
  {
   "cell_type": "code",
   "execution_count": 40,
   "id": "c3151805",
   "metadata": {},
   "outputs": [
    {
     "name": "stdout",
     "output_type": "stream",
     "text": [
      "Model: \"model\"\n",
      "__________________________________________________________________________________________________\n",
      "Layer (type)                    Output Shape         Param #     Connected to                     \n",
      "==================================================================================================\n",
      "input_1 (InputLayer)            [(None, 40)]         0                                            \n",
      "__________________________________________________________________________________________________\n",
      "embedding (Embedding)           (None, 40, 128)      1024000     input_1[0][0]                    \n",
      "__________________________________________________________________________________________________\n",
      "lstm (LSTM)                     [(None, 40, 256), (N 394240      embedding[0][0]                  \n",
      "__________________________________________________________________________________________________\n",
      "input_2 (InputLayer)            [(None, None)]       0                                            \n",
      "__________________________________________________________________________________________________\n",
      "lstm_1 (LSTM)                   [(None, 40, 256), (N 525312      lstm[0][0]                       \n",
      "__________________________________________________________________________________________________\n",
      "embedding_1 (Embedding)         (None, None, 128)    256000      input_2[0][0]                    \n",
      "__________________________________________________________________________________________________\n",
      "lstm_2 (LSTM)                   [(None, 40, 256), (N 525312      lstm_1[0][0]                     \n",
      "__________________________________________________________________________________________________\n",
      "lstm_3 (LSTM)                   [(None, None, 256),  394240      embedding_1[0][0]                \n",
      "                                                                 lstm_2[0][1]                     \n",
      "                                                                 lstm_2[0][2]                     \n",
      "__________________________________________________________________________________________________\n",
      "dense (Dense)                   (None, None, 2000)   514000      lstm_3[0][0]                     \n",
      "==================================================================================================\n",
      "Total params: 3,633,104\n",
      "Trainable params: 3,633,104\n",
      "Non-trainable params: 0\n",
      "__________________________________________________________________________________________________\n"
     ]
    }
   ],
   "source": [
    "# 디코더의 출력층\n",
    "decoder_softmax_layer = Dense(tar_vocab, activation='softmax')\n",
    "decoder_softmax_outputs = decoder_softmax_layer(decoder_outputs) \n",
    "\n",
    "# 모델 정의\n",
    "model = Model([encoder_inputs, decoder_inputs], decoder_softmax_outputs)\n",
    "model.summary()"
   ]
  },
  {
   "cell_type": "markdown",
   "id": "01f62241",
   "metadata": {},
   "source": [
    "# Step 3. 어텐션 메커니즘 사용하기 (추상적 요약)\n",
    "\n",
    "일반적인 seq2seq보다는 어텐션 메커니즘을 사용한 seq2seq를 사용하는 것이 더 나은 성능을 얻을 수 있어요. 실습 내용을 참고하여 어텐션 메커니즘을 사용한 seq2seq를 설계해 보세요."
   ]
  },
  {
   "cell_type": "code",
   "execution_count": 41,
   "id": "2c9db085",
   "metadata": {},
   "outputs": [
    {
     "name": "stdout",
     "output_type": "stream",
     "text": [
      "Model: \"model_1\"\n",
      "__________________________________________________________________________________________________\n",
      "Layer (type)                    Output Shape         Param #     Connected to                     \n",
      "==================================================================================================\n",
      "input_1 (InputLayer)            [(None, 40)]         0                                            \n",
      "__________________________________________________________________________________________________\n",
      "embedding (Embedding)           (None, 40, 128)      1024000     input_1[0][0]                    \n",
      "__________________________________________________________________________________________________\n",
      "lstm (LSTM)                     [(None, 40, 256), (N 394240      embedding[0][0]                  \n",
      "__________________________________________________________________________________________________\n",
      "input_2 (InputLayer)            [(None, None)]       0                                            \n",
      "__________________________________________________________________________________________________\n",
      "lstm_1 (LSTM)                   [(None, 40, 256), (N 525312      lstm[0][0]                       \n",
      "__________________________________________________________________________________________________\n",
      "embedding_1 (Embedding)         (None, None, 128)    256000      input_2[0][0]                    \n",
      "__________________________________________________________________________________________________\n",
      "lstm_2 (LSTM)                   [(None, 40, 256), (N 525312      lstm_1[0][0]                     \n",
      "__________________________________________________________________________________________________\n",
      "lstm_3 (LSTM)                   [(None, None, 256),  394240      embedding_1[0][0]                \n",
      "                                                                 lstm_2[0][1]                     \n",
      "                                                                 lstm_2[0][2]                     \n",
      "__________________________________________________________________________________________________\n",
      "attention_layer (AdditiveAttent (None, None, 256)    256         lstm_3[0][0]                     \n",
      "                                                                 lstm_2[0][0]                     \n",
      "__________________________________________________________________________________________________\n",
      "concat_layer (Concatenate)      (None, None, 512)    0           lstm_3[0][0]                     \n",
      "                                                                 attention_layer[0][0]            \n",
      "__________________________________________________________________________________________________\n",
      "dense_1 (Dense)                 (None, None, 2000)   1026000     concat_layer[0][0]               \n",
      "==================================================================================================\n",
      "Total params: 4,145,360\n",
      "Trainable params: 4,145,360\n",
      "Non-trainable params: 0\n",
      "__________________________________________________________________________________________________\n"
     ]
    }
   ],
   "source": [
    "from tensorflow.keras.layers import AdditiveAttention\n",
    "\n",
    "# 어텐션 층(어텐션 함수)\n",
    "attn_layer = AdditiveAttention(name='attention_layer')\n",
    "\n",
    "# 인코더와 디코더의 모든 time step의 hidden state를 어텐션 층에 전달하고 결과를 리턴\n",
    "attn_out = attn_layer([decoder_outputs, encoder_outputs])\n",
    "\n",
    "\n",
    "# 어텐션의 결과와 디코더의 hidden state들을 연결\n",
    "decoder_concat_input = Concatenate(axis=-1, name='concat_layer')([decoder_outputs, attn_out])\n",
    "\n",
    "# 디코더의 출력층\n",
    "decoder_softmax_layer = Dense(tar_vocab, activation='softmax')\n",
    "decoder_softmax_outputs = decoder_softmax_layer(decoder_concat_input)\n",
    "\n",
    "# 모델 정의\n",
    "model = Model([encoder_inputs, decoder_inputs], decoder_softmax_outputs)\n",
    "model.summary()"
   ]
  },
  {
   "cell_type": "code",
   "execution_count": 42,
   "id": "1a6ec8d9",
   "metadata": {},
   "outputs": [
    {
     "name": "stdout",
     "output_type": "stream",
     "text": [
      "Epoch 1/50\n",
      "284/284 [==============================] - 166s 554ms/step - loss: 3.1640 - val_loss: 2.9192\n",
      "Epoch 2/50\n",
      "284/284 [==============================] - 157s 554ms/step - loss: 2.7736 - val_loss: 2.6312\n",
      "Epoch 3/50\n",
      "284/284 [==============================] - 157s 553ms/step - loss: 2.5485 - val_loss: 2.4794\n",
      "Epoch 4/50\n",
      "284/284 [==============================] - 157s 554ms/step - loss: 2.4091 - val_loss: 2.3770\n",
      "Epoch 5/50\n",
      "284/284 [==============================] - 157s 553ms/step - loss: 2.3005 - val_loss: 2.2911\n",
      "Epoch 6/50\n",
      "284/284 [==============================] - 157s 555ms/step - loss: 2.2113 - val_loss: 2.2246\n",
      "Epoch 7/50\n",
      "284/284 [==============================] - 157s 551ms/step - loss: 2.1355 - val_loss: 2.1733\n",
      "Epoch 8/50\n",
      "284/284 [==============================] - 157s 552ms/step - loss: 2.0684 - val_loss: 2.1311\n",
      "Epoch 9/50\n",
      "284/284 [==============================] - 157s 551ms/step - loss: 2.0104 - val_loss: 2.0919\n",
      "Epoch 10/50\n",
      "284/284 [==============================] - 157s 553ms/step - loss: 1.9590 - val_loss: 2.0634\n",
      "Epoch 11/50\n",
      "284/284 [==============================] - 158s 555ms/step - loss: 1.9142 - val_loss: 2.0451\n",
      "Epoch 12/50\n",
      "284/284 [==============================] - 157s 553ms/step - loss: 1.8734 - val_loss: 2.0208\n",
      "Epoch 13/50\n",
      "284/284 [==============================] - 157s 552ms/step - loss: 1.8365 - val_loss: 2.0063\n",
      "Epoch 14/50\n",
      "284/284 [==============================] - 157s 551ms/step - loss: 1.8023 - val_loss: 1.9982\n",
      "Epoch 15/50\n",
      "284/284 [==============================] - 157s 553ms/step - loss: 1.7714 - val_loss: 1.9869\n",
      "Epoch 16/50\n",
      "284/284 [==============================] - 158s 555ms/step - loss: 1.7433 - val_loss: 1.9742\n",
      "Epoch 17/50\n",
      "284/284 [==============================] - 157s 552ms/step - loss: 1.7170 - val_loss: 1.9707\n",
      "Epoch 18/50\n",
      "284/284 [==============================] - 158s 555ms/step - loss: 1.6926 - val_loss: 1.9643\n",
      "Epoch 19/50\n",
      "284/284 [==============================] - 156s 550ms/step - loss: 1.6696 - val_loss: 1.9598\n",
      "Epoch 20/50\n",
      "284/284 [==============================] - 157s 552ms/step - loss: 1.6479 - val_loss: 1.9609\n",
      "Epoch 21/50\n",
      "284/284 [==============================] - 156s 551ms/step - loss: 1.6276 - val_loss: 1.9496\n",
      "Epoch 22/50\n",
      "284/284 [==============================] - 157s 552ms/step - loss: 1.6088 - val_loss: 1.9522\n",
      "Epoch 23/50\n",
      "284/284 [==============================] - 157s 551ms/step - loss: 1.5897 - val_loss: 1.9526\n",
      "Epoch 00023: early stopping\n"
     ]
    }
   ],
   "source": [
    "model.compile(optimizer='rmsprop', loss='sparse_categorical_crossentropy')\n",
    "es = EarlyStopping(monitor='val_loss', patience=2, verbose=1)\n",
    "history = model.fit(x=[encoder_input_train, decoder_input_train], y=decoder_target_train, \\\n",
    "          validation_data=([encoder_input_test, decoder_input_test], decoder_target_test), \\\n",
    "          batch_size=256, callbacks=[es], epochs=50)"
   ]
  },
  {
   "cell_type": "markdown",
   "id": "87dc755e",
   "metadata": {},
   "source": [
    "### 여기서 주목할 것은? EarlyStopping이다. \n",
    "Earlystopping은 특정 조건이 충족되면 훈련을 멈춘다. \n",
    "val_loss(검증 데이터의 손실)을 관찰하다가, 검증 데이터의 손실이 줄어들지 않고 증가하는 현상이 2회(patience=2) 관측되면 학습을 멈추도록 설정되어있다. \n",
    "EarlyStopping이 작동한다면 epochs가 아무리 크게 설정되어 있어도 모델 훈련을 최적점에서 멈출 수 있다.\n",
    "\n",
    "\n",
    "다행히 Epoch 23회만에 조기종료되었다. \n",
    "\n",
    "\n",
    "https://www.tensorflow.org/api_docs/python/tf/keras/callbacks/EarlyStopping\n",
    "\n"
   ]
  },
  {
   "cell_type": "code",
   "execution_count": 62,
   "id": "c24d5007",
   "metadata": {},
   "outputs": [
    {
     "data": {
      "image/png": "[encoded data removed]",
      "text/plain": [
       "<Figure size 432x288 with 1 Axes>"
      ]
     },
     "metadata": {
      "needs_background": "light"
     },
     "output_type": "display_data"
    }
   ],
   "source": [
    "plt.plot(history.history['loss'], label='train')\n",
    "plt.plot(history.history['val_loss'], label='test')\n",
    "plt.legend()\n",
    "plt.show()"
   ]
  },
  {
   "cell_type": "markdown",
   "id": "c5201b14",
   "metadata": {},
   "source": [
    "* test 데이터의 손실이 지속적으로 줄어들다가 약 2.0의 부근으로 점차 수렴하는 모습을 보인다.  "
   ]
  },
  {
   "cell_type": "markdown",
   "id": "3a50108c",
   "metadata": {},
   "source": [
    "\n",
    "### 인퍼런스 단계 = 실제 동작하는 단계\n",
    "\n",
    "seq2seq는 훈련할 때와 실제 동작할 때(인퍼런스 단계)의 방식이 다르다. \n",
    "그래서 그에 맞게 모델 설계를 별개로 진행해야 한다\n",
    "\n",
    "정답 문장이 없는 인퍼런스 단계에서는 만들어야 할 문장의 길이만큼 디코더가 반복 구조로 동작해야 하기 때문에 부득이하게 인퍼런스를 위한 모델 설계를 별도로 해주어야 합니다. 이때는 인코더 모델과 디코더 모델을 분리해서 설계합니다."
   ]
  },
  {
   "cell_type": "code",
   "execution_count": 63,
   "id": "31e0393c",
   "metadata": {},
   "outputs": [
    {
     "name": "stdout",
     "output_type": "stream",
     "text": [
      "=3\n"
     ]
    }
   ],
   "source": [
    "src_index_to_word = src_tokenizer.index_word # 원문 단어 집합에서 정수 -> 단어를 얻음\n",
    "tar_word_to_index = tar_tokenizer.word_index # 요약 단어 집합에서 단어 -> 정수를 얻음\n",
    "tar_index_to_word = tar_tokenizer.index_word # 요약 단어 집합에서 정수 -> 단어를 얻음\n",
    "\n",
    "print('=3')"
   ]
  },
  {
   "cell_type": "code",
   "execution_count": 64,
   "id": "b1e94520",
   "metadata": {},
   "outputs": [
    {
     "name": "stdout",
     "output_type": "stream",
     "text": [
      "=3\n"
     ]
    }
   ],
   "source": [
    "# 인코더 설계\n",
    "encoder_model = Model(inputs=encoder_inputs, outputs=[encoder_outputs, state_h, state_c])\n",
    "\n",
    "# 이전 시점의 상태들을 저장하는 텐서\n",
    "decoder_state_input_h = Input(shape=(hidden_size,))\n",
    "decoder_state_input_c = Input(shape=(hidden_size,))\n",
    "\n",
    "dec_emb2 = dec_emb_layer(decoder_inputs)\n",
    "\n",
    "# 문장의 다음 단어를 예측하기 위해서 초기 상태(initial_state)를 이전 시점의 상태로 사용. 이는 뒤의 함수 decode_sequence()에 구현\n",
    "# 훈련 과정에서와 달리 LSTM의 리턴하는 은닉 상태와 셀 상태인 state_h와 state_c를 버리지 않음.\n",
    "decoder_outputs2, state_h2, state_c2 = decoder_lstm(dec_emb2, initial_state=[decoder_state_input_h, decoder_state_input_c])\n",
    "\n",
    "print('=3')"
   ]
  },
  {
   "cell_type": "code",
   "execution_count": 65,
   "id": "23988981",
   "metadata": {},
   "outputs": [
    {
     "name": "stdout",
     "output_type": "stream",
     "text": [
      "=3\n"
     ]
    }
   ],
   "source": [
    "# 어텐션 함수\n",
    "decoder_hidden_state_input = Input(shape=(text_max_len, hidden_size))\n",
    "attn_out_inf = attn_layer([decoder_outputs2, decoder_hidden_state_input])\n",
    "decoder_inf_concat = Concatenate(axis=-1, name='concat')([decoder_outputs2, attn_out_inf])\n",
    "\n",
    "# 디코더의 출력층\n",
    "decoder_outputs2 = decoder_softmax_layer(decoder_inf_concat) \n",
    "\n",
    "# 최종 디코더 모델\n",
    "decoder_model = Model(\n",
    "    [decoder_inputs] + [decoder_hidden_state_input,decoder_state_input_h, decoder_state_input_c],\n",
    "    [decoder_outputs2] + [state_h2, state_c2])\n",
    "\n",
    "print('=3')"
   ]
  },
  {
   "cell_type": "code",
   "execution_count": 66,
   "id": "2513fa60",
   "metadata": {},
   "outputs": [
    {
     "name": "stdout",
     "output_type": "stream",
     "text": [
      "=3\n"
     ]
    }
   ],
   "source": [
    "def decode_sequence(input_seq):\n",
    "    # 입력으로부터 인코더의 상태를 얻음\n",
    "    e_out, e_h, e_c = encoder_model.predict(input_seq)\n",
    "\n",
    "     # <SOS>에 해당하는 토큰 생성\n",
    "    target_seq = np.zeros((1,1))\n",
    "    target_seq[0, 0] = tar_word_to_index['sostoken']\n",
    "\n",
    "    stop_condition = False\n",
    "    decoded_sentence = ''\n",
    "    while not stop_condition: # stop_condition이 True가 될 때까지 루프 반복\n",
    "\n",
    "        output_tokens, h, c = decoder_model.predict([target_seq] + [e_out, e_h, e_c])\n",
    "        sampled_token_index = np.argmax(output_tokens[0, -1, :])\n",
    "        sampled_token = tar_index_to_word[sampled_token_index]\n",
    "\n",
    "        if (sampled_token!='eostoken'):\n",
    "            decoded_sentence += ' '+sampled_token\n",
    "\n",
    "        #  <eos>에 도달하거나 최대 길이를 넘으면 중단.\n",
    "        if (sampled_token == 'eostoken'  or len(decoded_sentence.split()) >= (headlines_max_len-1)):\n",
    "            stop_condition = True\n",
    "\n",
    "        # 길이가 1인 타겟 시퀀스를 업데이트\n",
    "        target_seq = np.zeros((1,1))\n",
    "        target_seq[0, 0] = sampled_token_index\n",
    "\n",
    "        # 상태를 업데이트 합니다.\n",
    "        e_h, e_c = h, c\n",
    "\n",
    "    return decoded_sentence\n",
    "print('=3')"
   ]
  },
  {
   "cell_type": "markdown",
   "id": "823f3bdd",
   "metadata": {},
   "source": [
    "# Step 4. 실제 결과와 요약문 비교하기 (추상적 요약)\n",
    "\n",
    "원래의 요약문(headlines 열)과 학습을 통해 얻은 추상적 요약의 결과를 비교해 보세요."
   ]
  },
  {
   "cell_type": "code",
   "execution_count": 67,
   "id": "28d64141",
   "metadata": {},
   "outputs": [
    {
     "name": "stdout",
     "output_type": "stream",
     "text": [
      "=3\n"
     ]
    }
   ],
   "source": [
    "# 원문의 정수 시퀀스를 텍스트 시퀀스로 변환\n",
    "def seq2text(input_seq):\n",
    "    temp=''\n",
    "    for i in input_seq:\n",
    "        if (i!=0):\n",
    "            temp = temp + src_index_to_word[i]+' '\n",
    "    return temp\n",
    "\n",
    "# 요약문의 정수 시퀀스를 텍스트 시퀀스로 변환\n",
    "def seq2headlines(input_seq):\n",
    "    temp=''\n",
    "    for i in input_seq:\n",
    "        if ((i!=0 and i!=tar_word_to_index['sostoken']) and i!=tar_word_to_index['eostoken']):\n",
    "            temp = temp + tar_index_to_word[i] + ' '\n",
    "    return temp\n",
    "\n",
    "print('=3')"
   ]
  },
  {
   "cell_type": "code",
   "execution_count": 68,
   "id": "3755234e",
   "metadata": {},
   "outputs": [
    {
     "name": "stdout",
     "output_type": "stream",
     "text": [
      "원문 : self taught defended recently unveiled footballer cristiano ronaldo saying ronaldo praised efforts asked make former airport said impossible please even jesus could please everyone matter taste simple seems \n",
      "실제 요약 : ex airport defends ronaldo \n",
      "예측 요약 :  ronaldo to make his life for\n",
      "\n",
      "\n",
      "원문 : manchester united scored twice injury time register comeback victory champions league final bayern munich may scored help united complete premier league cup football hell said united boss sir alex match \n",
      "실제 요약 : watch man utd score twice in injury time to win in \n",
      "예측 요약 :  man utd lose to win their th match win\n",
      "\n",
      "\n",
      "원문 : chinese artist established airline fly art events first airline flight fly new york art fair december subsequent flights travel cities including san francisco says always interested making dreams come true \n",
      "실제 요약 : creates own airline that will fly only to \n",
      "예측 요약 :  china to fly its first flight\n",
      "\n",
      "\n",
      "원문 : talking bigbasket initial days grocery delivery startup co founder said still remember first customer order one fruit item also said bigbasket among top indian retailers fruit sales feel really come long way added \n",
      "실제 요약 : our st order had founder \n",
      "예측 요약 :  startup makes me getting its first co founder\n",
      "\n",
      "\n",
      "원문 : least one afghan soldier killed seven us soldiers injured incident base northern afghanistan saturday us military officials said investigation launched incident last week afghan soldier killed three us soldiers injured one eastern afghanistan joint operations terrorism \n",
      "실제 요약 : afghan killed us soldiers injured in afghanistan \n",
      "예측 요약 :  taliban kills afghan soldiers in afghanistan\n",
      "\n",
      "\n",
      "원문 : man arrested allegedly using forged letters external affairs minister sushma swaraj helicopter tickets mata devi cave shrine said jammu police saturday police said accused acquired tickets quota based forged letters office sushma swaraj sold tickets black market \n",
      "실제 요약 : man uses of swaraj for tickets \n",
      "예측 요약 :  man held for visa swaraj swaraj\n",
      "\n",
      "\n",
      "원문 : india stand captain rohit sharma said coach ravi shastri first person use air sharma playing australia shastri heard someone call rohit using rohit recently smashed cricket joint fastest ton nd sri lanka \n",
      "실제 요약 : shastri first called me during rohit \n",
      "예측 요약 :  shastri should be if he is rohit\n",
      "\n",
      "\n",
      "원문 : us president donald trump said would invite north korean leader kim jong un white house next week summit two leaders singapore successful added think would look trump earlier said summit going much photo op \n",
      "실제 요약 : will call jong un to white house if summit goes well trump \n",
      "예측 요약 :  trump calls kim jong un\n",
      "\n",
      "\n",
      "원문 : based data recently concluded ipl twitter india revealed ms dhoni emoji mentioned player emoji tournament virat kohli emoji next list gautam gambhir rohit sharma suresh raina also featuring top five mumbai indians mentioned team followed kolkata knight riders \n",
      "실제 요약 : dhoni most used player on twitter during ipl \n",
      "예측 요약 :  dhoni dhoni to play in ipl cricket\n",
      "\n",
      "\n",
      "원문 : senior andhra pradesh police officer passed away six months ago issued transfer week asked report police headquarters office director general police issued order said mix occurred due error initiated internal inquiry \n",
      "실제 요약 : dead andhra pradesh police officer gets order \n",
      "예측 요약 :  andhra doctor officer dies after being declared by\n",
      "\n",
      "\n",
      "원문 : couple recently got married wedding us california featured cannabis cannabis guests cannabis declared husband wife uses cannabis said started smoking adding years later \n",
      "실제 요약 : couple get married in wedding \n",
      "예측 요약 :  couple married to marry in us\n",
      "\n",
      "\n",
      "원문 : railway ministry safety committee report blamed heavy rainfall rumours stampede railway station bridge mumbai killed people report states commuters refused leave bridge due heavy rainfall causing bridge also accepted claim incident happened due bridge collapse rumours \n",
      "실제 요약 : railways blames rain and rumours for mumbai \n",
      "예측 요약 :  mumbai govt to train safety bridge\n",
      "\n",
      "\n",
      "원문 : woman egypt filed divorce husband refused buy knew two months wedding never noticed woman said couple arranged marriage married days man reportedly accused wealth \n",
      "실제 요약 : woman husband for to buy her \n",
      "예측 요약 :  woman accuses husband of husband\n",
      "\n",
      "\n",
      "원문 : telecom tribunal allowed mukesh ambani led reliance jio continue free promotional offer asked regulator trai examine issues relating approval granted asked trai inform findings examination within two weeks earlier operators criticised trai jio alleged violations \n",
      "실제 요약 : asked to re of jio free offers \n",
      "예측 요약 :  jio to offer new to jio\n",
      "\n",
      "\n",
      "원문 : five time ballon winner cristiano ronaldo recently joined juventus spending nine seasons real madrid said wanted play defending italian first division champions since child great club one biggest clubs world happy ronaldo said year old make debut august \n",
      "실제 요약 : wanted to play for since was child ronaldo \n",
      "예측 요약 :  ronaldo scores from real madrid\n",
      "\n",
      "\n",
      "원문 : least people killed others injured suicide bombing shrine balochistan district suicide attacker tried enter shrine blew stopped police last year least people killed explosion another shrine balochistan \n",
      "실제 요약 : at killed in suicide in \n",
      "예측 요약 :  killed injured in suicide attack in suicide\n",
      "\n",
      "\n",
      "원문 : sydney indian origin spinner arjun suspended bowling domestic cricket least three months reported suspect action big bash league cricket australia revealed different action called perform action official observation \n",
      "실제 요약 : indian origin aus cricketer suspended for suspect action \n",
      "예측 요약 :  indian player fined for shami for taking\n",
      "\n",
      "\n",
      "원문 : disney company announced buying studio billion deal january apple ceo steve jobs owned half shares became largest shareholder disney joined board following acquisition notably disney co distributed films years profits \n",
      "실제 요약 : announced billion years ago \n",
      "예측 요약 :  firm ceo pay billion after years\n",
      "\n",
      "\n",
      "원문 : ahead ipl final rising pune supergiant mumbai indians captain steve smith posted message fans instagram smith termed stay india incredible thanked everyone india making trip smith post collage meeting dalai lama playing alongside ms dhoni among others \n",
      "실제 요약 : smith posts instagram message for fans ahead of ipl final \n",
      "예측 요약 :  csk to play indians in chennai super match\n",
      "\n",
      "\n",
      "원문 : pnb officials mumbai house branch may reportedly made crore issuing fraudulent letters undertaking jeweller nirav modi firms allegedly given commission per year several years companies linked nirav mehul choksi used fraudulent get overseas credit worth billion \n",
      "실제 요약 : pnb officials may have made over cr in pnb scam reports \n",
      "예측 요약 :  pnb cr in nirav modi choksi\n",
      "\n",
      "\n",
      "원문 : around students received fake degrees indira gandhi national open university centre kathua without writing examinations jammu kashmir police said officials post offices prepared fake answer sheets money collected candidates scam bank account opened name fake \n",
      "실제 요약 : students get fake without exams \n",
      "예측 요약 :  fake students booked for fake students in maharashtra\n",
      "\n",
      "\n",
      "원문 : bsp sp coalition come power uttar pradesh bsp withdrew support following announcement june sp workers state guest house lucknow bsp supremo mayawati meeting held hostage reportedly workers assaulted cut guest house water electricity supply \n",
      "실제 요약 : what was house incident when mayawati was held \n",
      "예측 요약 :  bsp mayawati mayawati mayawati resignation\n",
      "\n",
      "\n",
      "원문 : police station established deal alleged corruption cases delhi police officers arrested accused personnel without able convict anyone senior officer vigilance unit said unless person caught red handed arrested arrests made evidence forensic \n",
      "실제 요약 : accused convicted delhi police action on cops \n",
      "예측 요약 :  police officers to police officer\n",
      "\n",
      "\n",
      "원문 : national security advisor ajit met pakistani counterpart lieutenant general khan bangkok december according report meeting comes wake statement possibility nuclear war south asia cannot ruled issues discussed meeting kashmir unrest pakistan stance terrorists reports added \n",
      "실제 요약 : meets pak in reports \n",
      "예측 요약 :  to pakistan imran khan\n",
      "\n",
      "\n",
      "원문 : reaction massive oil california late us senator earth day founder came idea day focus environment nearly crore americans held peaceful favour environmental reforms april celebrated first earth day \n",
      "실제 요약 : earth day was born as to an oil \n",
      "예측 요약 :  us president at crore\n",
      "\n",
      "\n",
      "원문 : saudi prince bin mohamed reportedly fled country amid ongoing anti corruption probe saudi recently arrested comes houthi rebels offered political asylum yemen saudi want flee notably saudi aviation authorities ordered prevent royals flying country \n",
      "실제 요약 : saudi prince country amid anti probe reports \n",
      "예측 요약 :  saudi prince ordered to arrest in saudi arabia\n",
      "\n",
      "\n",
      "원문 : least people killed reported missing construction dam collapsed monday state media reported people needed rescued others left homeless collapse triggered flash floods away homes \n",
      "실제 요약 : killed missing after collapses in \n",
      "예측 요약 :  killed injured in indonesia\n",
      "\n",
      "\n",
      "원문 : russian defence ministry friday revealed us spy plane intercepted russian fighter jet black sea may marked annual victory day celebrations russian pilot reportedly us pilots special us plane changed course away russian border \n",
      "실제 요약 : russian jet us spy plane on victory day \n",
      "예측 요약 :  russia plane to russian plane after crash\n",
      "\n",
      "\n",
      "원문 : sports minister rajyavardhan singh rathore said ministry officials athletes face problems getting incentives funds rathore added money indian sports funds used purposes warned athletes sure error ministry part making accusations \n",
      "실제 요약 : if do not get funds will officials sports min \n",
      "예측 요약 :  sports ministry asks sports min to take place for\n",
      "\n",
      "\n",
      "원문 : former team india captain ms dhoni batsman suresh raina become two cricketers feature india first ever th duo achieved feat taking field ireland india th wednesday dhoni scored duck raina hit three runs first ever match \n",
      "실제 요약 : only cricketers have played in both india st th \n",
      "예측 요약 :  dhoni st indian to play in odi cricket\n",
      "\n",
      "\n",
      "원문 : robbers gujarat saturday killed year old woman chopped legs steal silver police officials investigating matter said woman alone home incident happened said robbers first slit throat chopped legs sharp weapon \n",
      "실제 요약 : kill yr old woman her to steal silver \n",
      "예측 요약 :  gujarat woman found dead in gujarat\n",
      "\n",
      "\n",
      "원문 : actor akshay kumar revealed signing first film filmmaker gave cheque signed three films gave second film third cheque lakh added akshay said happened day missed important \n",
      "실제 요약 : was given when for my first film akshay \n",
      "예측 요약 :  was st actor was st actor\n",
      "\n",
      "\n",
      "원문 : trailer upcoming ajay devgn parineeti chopra tabu starrer golmaal comes seven years last film franchise released actors golmaal kapoor kunal retained fourth instalment directed rohit shetty golmaal release october \n",
      "실제 요약 : trailer of ajay parineeti again released \n",
      "예측 요약 :  trailer of parineeti sharma starrer released\n",
      "\n",
      "\n",
      "원문 : twinkle khanna asked write bollywood said bollywood boring write short stories find interesting seen would write added twinkle said always bollywood \n",
      "실제 요약 : it is to me on not on bollywood \n",
      "예측 요약 :  do not want to be used to\n",
      "\n",
      "\n",
      "원문 : delhi metro cards valid selected city buses january transport minister kailash said commuters tap card electronic machine generate ticket part month long trial common card used metro delhi transport corporation buses \n",
      "실제 요약 : delhi metro cards to be in city from jan \n",
      "예측 요약 :  delhi metro to launch for services\n",
      "\n",
      "\n",
      "원문 : year old lawyer nominated us president donald trump lifetime federal district never tried case nominated us district court middle district deemed qualified american bar association also failed disclose marriage top white house lawyer \n",
      "실제 요약 : us prez trump judge has never tried case \n",
      "예측 요약 :  trump lawyer to lawyer who tried to\n",
      "\n",
      "\n",
      "원문 : delhi aap government offered host singer krishna concert airports authority india cancelled event supposed perform government offered hold event november day cancelled one concert called amid criticism krishna labelled anti india \n",
      "실제 요약 : aap offers to host singer event after cancels \n",
      "예측 요약 :  aap sends concert to attend concert concert\n",
      "\n",
      "\n",
      "원문 : branch china construction bank offered chinese clients opportunity dinner us president donald trump offer ticket event scheduled may trump campaign said accept foreign donations kind filed complaint us department justice matter \n",
      "실제 요약 : chinese bank offers with trump for \n",
      "예측 요약 :  china firm to trump for\n",
      "\n",
      "\n",
      "원문 : ipl official website shared video kkr captain dinesh karthik reading mean tweets tweets included dinesh karthik captain even near gautam gambhir captain kkr sorry true dinesh karthik vinay kumar standing together today would think twice first \n",
      "실제 요약 : change name to tweets \n",
      "예측 요약 :  kkr troll who got poster of kkr actor\n",
      "\n",
      "\n",
      "원문 : congress chief rahul gandhi monday tweeted migrant labourers gujarat attacked due closing state system economy wrote added targeting migrants completely wrong stands totally several thousands migrants reportedly left gujarat alleged violence \n",
      "실제 요약 : migrants attacked due to in gujarat rahul \n",
      "예측 요약 :  rahul gandhi worst people will not be in gujarat\n",
      "\n",
      "\n",
      "원문 : actor rishi kapoor twitter slammed current generation actors missing actor vinod khanna funeral added angry met many people last night priyanka chopra last night vinod transparent rishi added wife neetu kapoor son ranbir kapoor attend funeral india \n",
      "실제 요약 : rishi slams young actors for \n",
      "예측 요약 :  rishi kapoor apologises for life of actors\n",
      "\n",
      "\n",
      "원문 : actress malaika arora took instagram share picture actor saif ali khan daughter sara ali khan gym also seen picture monkeys hanging ask fun read caption alongside picture \n",
      "실제 요약 : shares picture with saif daughter sara at the \n",
      "예측 요약 :  shares pic with saif ali khan\n",
      "\n",
      "\n",
      "원문 : instagram added app payments feature test users make purchases adding credit debit card additional currently users able book appointments restaurants third party app instagram would reportedly add direct payments things like movie tickets future \n",
      "실제 요약 : instagram adds in app payments feature for users \n",
      "예측 요약 :  instagram adds feature to let users share\n",
      "\n",
      "\n",
      "원문 : paul british actor worked shows like bridge rescued three days trapped base jungle thailand island found partially rock pool semi lucky alive said \n",
      "실제 요약 : actor rescued after being trapped at for days \n",
      "예측 요약 :  bridge rescued from bridge rescued\n",
      "\n",
      "\n",
      "원문 : accused stealing lord temple andhra decided jewellery end controversy jewellery put display media june theft allegations made former chief priest slapped crore defamation case \n",
      "실제 요약 : to temple amid theft allegations \n",
      "예측 요약 :  booked for selling temple over temple\n",
      "\n",
      "\n",
      "원문 : mark ceo computer software company said tenure ceo today quarters said ceo unable grow companies customers going digital expect quick time services talking power cloud said allow businesses stay ahead \n",
      "실제 요약 : of ceo today is only ceo \n",
      "예측 요약 :  will not be ceo\n",
      "\n",
      "\n",
      "원문 : uttar pradesh government today removed district magistrate senior superintendent police fresh clashes broke area dalit killed deputy cm prasad maurya said one including politicians notably suspended police officer taken charge post less month ago \n",
      "실제 요약 : up govt over dalit killing \n",
      "예측 요약 :  up cm orders probe into dalit home\n",
      "\n",
      "\n",
      "원문 : tv association expelled actor alok nath accused harassing several actors raping director producer nanda decision taken body called meeting nanda nath latter attend landmark unprecedented step nanda said \n",
      "실제 요약 : rape allegations \n",
      "예측 요약 :  accused of rape accused of raping\n",
      "\n",
      "\n",
      "원문 : ex new zealand rounder nathan mccullum took twitter false reports death rumours circulated social media died due hospital nathan shared selfie wrote alive ever sure news come fake love \n",
      "실제 요약 : am alive and more than ever nz cricketer on death rumours \n",
      "예측 요약 :  twitter users to death rumours of death\n",
      "\n",
      "\n",
      "원문 : year old jaipur wrote class cbse exams standing due condition called makes difficult sit scored marks may physical problem strong mentally father said opted commerce class aims become government officer \n",
      "실제 요약 : boy who class exams scores \n",
      "예측 요약 :  cbse class board exams for\n",
      "\n",
      "\n",
      "원문 : chipmaker planning acquire rival qualcomm billion according reports acquisition qualcomm would make third largest chipmaker intel samsung electronics market capitalisation billion aims create roughly billion company biggest technology takeover ever \n",
      "실제 요약 : plans to for billion \n",
      "예측 요약 :  may sell stake in billion report\n",
      "\n",
      "\n",
      "원문 : former wife pakistan prime minister imran khan criticised government removing economist belonging minority community calling move newly formed pakistan tehreek government removed economic advisory council following objections islamist \n",
      "실제 요약 : pak pm khan ex wife govt for \n",
      "예측 요약 :  pakistan pm sharif accuses of his\n",
      "\n",
      "\n",
      "원문 : senior samajwadi party leader ram gopal yadav said party mulayam singh yadav contest lok sabha elections constituency speaking pre poll alliance bahujan samaj party said information party know notably uttar pradesh accounts lok sabha seats \n",
      "실제 요약 : yadav to contest polls from sp leader \n",
      "예측 요약 :  sp bsp sp sp to contest polls in ls polls\n",
      "\n",
      "\n",
      "원문 : prime minister narendra modi reportedly ministers star hotel government accommodation also asked avoid taking benefits public sector attached ministries reportedly also said taking vehicles personal use \n",
      "실제 요약 : modi warns ministers over star \n",
      "예측 요약 :  pm modi releases to be for\n",
      "\n",
      "\n",
      "원문 : central government decided implement bharat stage grade auto fuel norms delhi april bid curb pollution national capital oil firms directed explore possibility extending entire national capital region april \n",
      "실제 요약 : government fuel by years in delhi \n",
      "예측 요약 :  petrol prices to be in delhi\n",
      "\n",
      "\n",
      "원문 : actress tiwari portrays character show said men cannot get words like understand actress roles difficult cannot least added trolled wearing revealing outfits show \n",
      "실제 요약 : some men cannot get over tv actress on body \n",
      "예측 요약 :  cannot be banned if they do not want to\n",
      "\n",
      "\n",
      "원문 : district administration madhya pradesh started scheme wherein person click picture someone public send authorities win authorities also fine person caught openly citizen campaign people monitoring official said \n",
      "실제 요약 : for each photo of open in \n",
      "예측 요약 :  mp govt to give to give up to protect him\n",
      "\n",
      "\n",
      "원문 : late british physicist stephen hawking known school einstein even though classified among worst class hawking later went develop black holes universe challenge einstein views time travel albert einstein th birth anniversary observed today \n",
      "실제 요약 : was in school despite low \n",
      "예측 요약 :  year old to give birth to\n",
      "\n",
      "\n",
      "원문 : economic affairs secretary subhash chandra garg wednesday said government seek interim reserve bank india also said expert committee economic capital framework finalised finance ministry likely seek approval parliament additional funding state run banks thursday garg added \n",
      "실제 요약 : govt to ask from rbi economic secy \n",
      "예측 요약 :  govt to remain for government\n",
      "\n",
      "\n",
      "원문 : announced cancellation flights till october announced flights november march mass expected collectively affect lakh passengers uk civil aviation authority warned legal action found violated consumer protection laws \n",
      "실제 요약 : after flights cancels more \n",
      "예측 요약 :  shuts down flights to\n",
      "\n",
      "\n",
      "원문 : developer force created app called adds random effects like photos videos real time priced app offers including wild card option repeatedly generate effects users also dragging finger \n",
      "실제 요약 : app adds to photos videos in real time \n",
      "예측 요약 :  app lets users share videos\n",
      "\n",
      "\n",
      "원문 : web browser created extension called facebook facebook tracking users web activity said websites allowed user facebook work properly within extension comes revealed least million facebook users personal data exposed without \n",
      "실제 요약 : facebook from its users \n",
      "예측 요약 :  facebook tests feature to let users users\n",
      "\n",
      "\n",
      "원문 : portal ministry corporate affairs used companies making filings hit wannacry ransomware attack last month according official document attack one first attacks government india portal per document system servers systems \n",
      "실제 요약 : indian government was hit by \n",
      "예측 요약 :  companies to kill in attack\n",
      "\n",
      "\n",
      "원문 : indian railways allotted lakh premium trains like express scheme scheme trains get facilities like toilets meal options seats par luxury trains railway ministry identified areas including improvement \n",
      "실제 요약 : railways lakh each to trains \n",
      "예측 요약 :  railways to give lakh to trains\n",
      "\n",
      "\n",
      "원문 : actor farhan akhtar played singh movie former indian star said sprinter das dream women gold world championships ji biggest dream witness indian athlete win gold track field read part akhtar tweet \n",
      "실제 요약 : has singh dream \n",
      "예측 요약 :  actor thanks for st time since\n",
      "\n",
      "\n",
      "원문 : fake notes within days demonetisation according analysis national crime records bureau data data states total notes seized november december maximum number fake notes seized gujarat data revealed \n",
      "실제 요약 : fake notes were out within days of demonetisation \n",
      "예측 요약 :  fake notes hit by fake banks in uk\n",
      "\n",
      "\n",
      "원문 : pm narendra modi year old rss sikh avoid getting arrested emergency imposed pm indira gandhi june rss among groups banned period modi reportedly carried banned literature delhi posed leaders like george safe locations \n",
      "실제 요약 : pm modi as sikh during emergency to avoid arrest \n",
      "예측 요약 :  modi rss pm modi in anti sikh riots\n",
      "\n",
      "\n",
      "원문 : man arrested wife multiple times delhi presence two year old son incident occurred wife turned tuesday threatened call police repeatedly beat returning home drunk initially run arrested returned pack bags \n",
      "실제 요약 : drunk man kills wife on her birthday in front of yr old son \n",
      "예측 요약 :  man wife times to death by wife in delhi\n",
      "\n",
      "\n",
      "원문 : pm narendra modi address friday said government building modern infrastructure kedarnath also making sure preserve traditional soul town also people initiatives taken government ensure resources development \n",
      "실제 요약 : we are building in pm modi \n",
      "예측 요약 :  pm modi will not be in\n",
      "\n",
      "\n",
      "원문 : tweeting verdict supreme court homosexuality india filmmaker karan johar wrote historical judgment proud today country gets oxygen back added verdict huge humanity equal rights earlier johar said everybody knows sexual would reveal \n",
      "실제 요약 : country gets back karan johar on gay sex not being crime \n",
      "예측 요약 :  if it is not to be sc on sec verdict\n",
      "\n",
      "\n",
      "원문 : physicist albert einstein offered nobel prize money wife part divorce settlement even winning prize einstein born march awarded nobel physics discovery law effect theory confused many \n",
      "실제 요약 : offered nobel prize money in divorce before winning \n",
      "예측 요약 :  nobel prize money prize money prize for nobel prize\n",
      "\n",
      "\n",
      "원문 : malaysian organisers southeast asian games mistakenly printed indonesian flag upside following indonesian president said incident concerned national pride called apology malaysia foreign ministry organisers issued apology said \n",
      "실제 요약 : malaysia wrong flag in games book \n",
      "예측 요약 :  navy to flag in\n",
      "\n",
      "\n",
      "원문 : enforcement directorate thursday attached assets chennai based gold worth crore prevention money laundering act jewellery chain investigation allegedly cheating consortium banks tune crore agency revealed attached assets worth crore case till \n",
      "실제 요약 : ed crore worth assets of gold \n",
      "예측 요약 :  ed raids of crore in bank fraud case\n",
      "\n",
      "\n",
      "원문 : parents indian pacer thakur injured bike road tuesday night year old left mumbai visit parents taken eight wickets appearances chennai super kings selected earlier tuesday one test afghanistan \n",
      "실제 요약 : pacer parents injured in bike accident \n",
      "예측 요약 :  india girl dies after being hit by in mumbai\n",
      "\n",
      "\n",
      "원문 : short track speed became first athlete russia win medal winter olympics dedicated bronze banned russia banned winter olympics state sponsored doping games among russian athletes cleared compete games \n",
      "실제 요약 : olympic medal to on bans \n",
      "예측 요약 :  germany to olympics olympics\n",
      "\n",
      "\n",
      "원문 : year old priest kerala missing four days found dead beach scotland saturday said reports deceased martin completing phd university gone missing circumstances kerala mla ramesh asked external affairs minister sushma swaraj bring body back \n",
      "실제 요약 : kerala priest missing for days found dead in \n",
      "예측 요약 :  kerala kerala priest found dead in kerala\n",
      "\n",
      "\n",
      "원문 : yes bank shares fell friday rbi deferred another three year term managing director ceo rana kapoor central bank however allowed kapoor head bank notice yes bank shareholders june approved three year extension ceo whose current term set end august \n",
      "실제 요약 : rbi year for bank ceo shares fall \n",
      "예측 요약 :  bank shares bank of ceo kapoor as bank ceo\n",
      "\n",
      "\n",
      "원문 : first official posters irrfan khan starrer upcoming film released also star malayalam actress make bollywood debut film directed chandra film love story scheduled release november \n",
      "실제 요약 : of irrfan khan released \n",
      "예측 요약 :  first look of irrfan khan released\n",
      "\n",
      "\n",
      "원문 : england suffered ever odi defeat terms runs fifth odi sri lanka tuesday first time since sri lanka top four batsmen passed run mark odi innings rain delay led sri lanka winning runs lewis method \n",
      "실제 요약 : odi defeat in of runs against sl \n",
      "예측 요약 :  england odi odi series winning england lose odi\n",
      "\n",
      "\n",
      "원문 : several men japan marrying virtual reality concept video game players develop relationships virtual ceremony involves groom bride couple engaging first kiss husband wife \n",
      "실제 요약 : japanese men marry \n",
      "예측 요약 :  robot to show song\n",
      "\n",
      "\n",
      "원문 : warner studio tour london organise christmas december within great hall decorated like ball movies ticket costing feature three course meal dancing entertainment midnight guests also tour studio \n",
      "실제 요약 : to be held at harry \n",
      "예측 요약 :  warner to make debut at the match\n",
      "\n",
      "\n",
      "원문 : indian football team nine match winning streak started june ended thursday team drew saint hero tri nation series india playing without captain sunil chhetri however series defeating mauritius earlier indian team last lost match march \n",
      "실제 요약 : indian football team longest win comes to an end \n",
      "예측 요약 :  indian football team scores in test\n",
      "\n",
      "\n",
      "원문 : tesla ceo elon musk friday slammed time tweeting report fired assistant calling based book report claimed musk fired assistant years asked raise however musk says received weeks salary leaving job role grew require \n",
      "실제 요약 : elon musk slams time over report on how he fired \n",
      "예측 요약 :  musk tesla employee was fired after sec\n",
      "\n",
      "\n",
      "원문 : delhi police arrested year old man allegedly killing year old wife injuring month old step daughters running truck drunk accused forcibly taken fight wife got angry took daughter back following ran \n",
      "실제 요약 : drunk man runs truck over his family in of kills wife \n",
      "예측 요약 :  delhi man kills wife for killing wife in delhi\n",
      "\n",
      "\n",
      "원문 : us president donald trump administration signed contract worth million world largest aerospace company boeing replace two food systems aboard president air force one according reports responding reports ex obama aide said former us president would contract \n",
      "실제 요약 : new at trump air force one to cost cr \n",
      "예측 요약 :  trump signs mn deal with korea\n",
      "\n",
      "\n",
      "원문 : abhishek bachchan responded troll mocked anurag kashyap casting film anurag tweeted premiere toronto international film festival user commented nawazuddin great choices abhishek loving film stars replying abhishek wrote called film star \n",
      "실제 요약 : abhishek responds to troll for him \n",
      "예측 요약 :  abhishek shares pic of her\n",
      "\n",
      "\n",
      "원문 : portrayed stephen hawking film theory everything paid tribute physicist wednesday calling hawking man ever met said lost truly beautiful mind scientist oscar performance film \n",
      "실제 요약 : man ever met of actor \n",
      "예측 요약 :  pays tribute to\n",
      "\n",
      "\n",
      "원문 : us police accused year old woman pretending homeless teenager order high school despite allegedly told administrators school year old girl named notably homeless children cannot denied education school legally immediately \n",
      "실제 요약 : yr old to be teen to get in us school \n",
      "예측 요약 :  us woman to school for taking in school\n",
      "\n",
      "\n",
      "원문 : former pakistani fast bowler shoaib akhtar called ashish nehra retired recently one honest players farewell message latter reacting akhtar tweet user wrote see players others crossing every border may world progress peaceful place \n",
      "실제 요약 : one of the and players \n",
      "예측 요약 :  not to be in\n",
      "\n",
      "\n",
      "원문 : major nitin gogoi tied local jeep human shield briefly detained police today gogoi driver year old kashmiri woman picked hotel several men reportedly objected presence army officer woman staffers called police fear altercation \n",
      "실제 요약 : major in human row held with woman at hotel \n",
      "예측 요약 :  man who her st woman to hit woman arrested\n",
      "\n",
      "\n"
     ]
    }
   ],
   "source": [
    "for i in range(10, 100):\n",
    "    print(\"원문 :\", seq2text(encoder_input_test[i]))\n",
    "    print(\"실제 요약 :\", seq2headlines(decoder_input_test[i]))\n",
    "    print(\"예측 요약 :\", decode_sequence(encoder_input_test[i].reshape(-1, text_max_len)))\n",
    "    print(\"\\n\")"
   ]
  },
  {
   "cell_type": "markdown",
   "id": "5c0813b3",
   "metadata": {},
   "source": [
    "* 테스트 샘플 중에서 10번부터 100번까지 테스트하는 것이다. \n",
    "\n",
    "* 모든 요약이 잘된 것은 아니지만 대부분 중요한 핵심 단어는 포함하고 있는 것들이 보인다. 어느 정도 맥락을 잡았다고 생각된다. "
   ]
  },
  {
   "cell_type": "markdown",
   "id": "2d7a8f4e",
   "metadata": {},
   "source": [
    "워드 임베딩과 RNN의 결과.\n",
    "\n",
    "성능 개선 방법은 여러 가지가 존재함.\n",
    "\n",
    "seq2seq와 어텐션의 자체의 조합을 더 나은 방향으로 수정\n",
    "빔서치/ 사전훈련된 워드 임베딩/인코더-디코더 구조 수정"
   ]
  },
  {
   "cell_type": "markdown",
   "id": "83134262",
   "metadata": {},
   "source": [
    "# Step 5. Summa을 이용해서 추출적 요약해보기\n",
    "\n",
    "추상적 요약은 추출적 요약과는 달리 문장의 표현력을 다양하게 가져갈 수 있지만, 추출적 요약에 비해서 난이도가 높아요. 반대로 말하면 추출적 요약은 추상적 요약에 비해 난이도가 낮고 기존 문장에서 문장을 꺼내오는 것이므로 잘못된 요약이 나올 가능성이 낮아요.\n",
    "\n",
    "Summa의 summarize를 사용하여 추출적 요약을 해보세요."
   ]
  },
  {
   "cell_type": "code",
   "execution_count": 84,
   "id": "2a613517",
   "metadata": {},
   "outputs": [],
   "source": [
    "import requests\n",
    "from summa.summarizer import summarize"
   ]
  },
  {
   "cell_type": "code",
   "execution_count": 85,
   "id": "37f05787",
   "metadata": {},
   "outputs": [],
   "source": [
    "text = requests.get('http://rare-technologies.com/the_matrix_synopsis.txt').text"
   ]
  },
  {
   "cell_type": "code",
   "execution_count": 86,
   "id": "6eab2eb3",
   "metadata": {},
   "outputs": [
    {
     "name": "stdout",
     "output_type": "stream",
     "text": [
      "The screen is filled with green, cascading code which gives way to the title, The Matrix.\r\n",
      "\r\n",
      "A phone rings and text appears on the screen: \"Call trans opt: received. 2-19-98 13:24:18 REC: Log>\" As a conversation takes place between Trinity (Carrie-Anne Moss) and Cypher (Joe Pantoliano), two free humans, a table of random green numbers are being scanned and individual numbers selected, creating a series of digits not unlike an ordinary phone number, as if a code is being deciphered or a call is being traced.\r\n",
      "\r\n",
      "Trinity discusses some unknown person. Cypher taunts Trinity, suggesting she enjoys watching him. Trinity counters that \"Morpheus (Laurence Fishburne) says he may be 'the One',\" just as the sound of a number being selected alerts Trinity that someone may be tracing their call. She ends the call.\r\n",
      "\r\n",
      "Armed policemen move down a darkened, decrepit hallway in the Heart O' the City Hotel, their flashlight beam bouncing just ahead of them. They come to room 303, kick down the door and find a woman dressed in black, facing away from them. It's Trinity. She brings her hands up from the laptop she's working on at their command.\r\n",
      "\r\n",
      "Outside the hotel a car drives up and three agents appear in neatly pressed black suits. They are Agent Smith (Hugo Weaving), Agent Brown (Paul Goddard), and Agent Jones (Robert Taylor). Agent Smith and the presiding police lieutenant argue. Agent Smith admonishes the policeman that they were given specific orders to contact the agents first, for their\n"
     ]
    }
   ],
   "source": [
    "print(text[:1500])"
   ]
  },
  {
   "cell_type": "markdown",
   "id": "b801666e",
   "metadata": {},
   "source": [
    "# summarize 사용하기\n",
    "Summa의 summarize()의 인자로 사용되는 값들이다.\n",
    "\n",
    "\n",
    "* text (str) : 요약할 테스트.\n",
    "* ratio (float, optional) – 요약문에서 원본에서 선택되는 문장 비율. 0~1 사이값\n",
    "* words (int or None, optional) – 출력에 포함할 단어 수.\n",
    "* 만약, ratio와 함께 두 파라미터가 모두 제공되는 경우 ratio는 무시한다.\n",
    "* split (bool, optional) – True면 문장 list / False는 조인(join)된 문자열을 반환"
   ]
  },
  {
   "cell_type": "code",
   "execution_count": 87,
   "id": "3207b049",
   "metadata": {},
   "outputs": [
    {
     "name": "stdout",
     "output_type": "stream",
     "text": [
      "Headlines:\n",
      "['Morpheus, Trinity, Neo, Apoc, Switch, Mouse and Cypher are jacked into the Matrix.', 'Trinity brings the helicopter down to the floor that Morpheus is on and Neo opens fire on the three Agents.']\n"
     ]
    }
   ],
   "source": [
    "# 리스트로 출력 결과 확인하기 \n",
    "print('Headlines:')\n",
    "print(summarize(text, ratio=0.005, split=True))"
   ]
  },
  {
   "cell_type": "code",
   "execution_count": 88,
   "id": "0e134582",
   "metadata": {},
   "outputs": [
    {
     "name": "stdout",
     "output_type": "stream",
     "text": [
      "Headlines:\n",
      "Trinity takes Neo to Morpheus.\n",
      "Morpheus, Trinity, Neo, Apoc, Switch, Mouse and Cypher are jacked into the Matrix.\n",
      "Trinity brings the helicopter down to the floor that Morpheus is on and Neo opens fire on the three Agents.\n"
     ]
    }
   ],
   "source": [
    "# 단어의 수로 요약문의 크기를 조절할 수도 있다. \n",
    "\n",
    "print('Headlines:')\n",
    "print(summarize(text, words=50))"
   ]
  },
  {
   "cell_type": "code",
   "execution_count": 89,
   "id": "cfeea15d",
   "metadata": {},
   "outputs": [
    {
     "name": "stdout",
     "output_type": "stream",
     "text": [
      "Headlines:\n",
      "Trinity takes Neo to Morpheus.\n",
      "Morpheus, Trinity, Neo, Apoc, Switch, Mouse and Cypher are jacked into the Matrix.\n",
      "Trinity brings the helicopter down to the floor that Morpheus is on and Neo opens fire on the three Agents.\n"
     ]
    }
   ],
   "source": [
    "print('Headlines:')\n",
    "print(summarize(text, words=50))"
   ]
  },
  {
   "cell_type": "markdown",
   "id": "98894eec",
   "metadata": {},
   "source": [
    "# 회고\n",
    "\n",
    "[문제 상황] : LMS 학습의 순서대로 진행하다보니 Summarize 단계에서 진행이 되지 않는 오류가 발생했다. \n",
    "\n",
    "[문제 원인] : 추출적 요약에 사용되는 summarize 함수가 전처리와 토큰화를 수행해주기 때문에 전처리되지 않은 데이터를 사용해야한다. \n",
    "\n",
    "[해결 방법] : 전처리 전의 셀을 다시 진행 시킨 후에 summarize파트를 진행했다. \n",
    "\n",
    "---\n",
    "\n",
    "텍스트 요약은 추출적 요약과 추상적 요약 두 가지로 나뉜다. \n",
    "\n",
    "1. 추상적 : 추상적은 새로운 단어를 창조한다. \n",
    "2. 추출적 : 추출적은 기존의 단어를 사용한다. \n",
    "\n",
    "\n",
    "---\n",
    "1. 추상적 텍스트 요약 : 원문에 없던 문장이라도 핵심 문맥을 반영한 새로운 문장을 생성해서 원문을 요약하는 방법이다. 주로 인공신경망을 사용하고 대표적인 모델으로는 seq2seq가 있다. \n",
    "- 단점 : 기본적으로 지도 학습이다. 훈련하기 위해서는 '원문'과 더불어 '실제 요약문'이라는 레이블 데이터가 있어야한다. 그래서 데이터 구성 자체가 부담이 된다. \n",
    "\n",
    "2. 추출적 텍스트 요약 : 원문에서 중요한 핵심 문장 또는 단어구를 몇 개 뽑아서 이들로 구성된 요약문을 만드는 방법이다. 추출적 텍스트 요약의 결과물로 나온 요약문의 문장, 단어는 전부 원문에 있는 표현 그대로다. \n",
    "- 단점 : 기존의 표현만을 사용하게 되니 모델의 언어 표현 능력이 제한된다. \n",
    "\n",
    "* TextRank Model : 추출적 요약의 대표적인 알고리즘으로 페이지의 개념을 단어의 개념으로 바꾼 알고리즘이다. 즉, 텍스트로 이루어진 글에서 특정 단어가 다른 문장과 얼마만큼의 관계를 맺고 있는지를 계산하는 것이다. 그래프 기반의 랭킹 모델인데, 이렇게 순위를 매기는 방법이 문단의 추출적 요약에 효과적일 것이라 생각해서 개발했다고 한다. 검색 엔진에서 웹 페이지의 순위를 정하기 위해 사용되던 알고리즘이다. \n",
    "\n",
    "\n",
    "* 어텐션을 이용한 텍스트 요약 : Text summarization with attention mechanism\n",
    " 인코더의 모든 stpe의 hidden state의 정보가 context vector에 전부 반영되도록 하는 것이다. \n",
    "\n",
    "---\n",
    "\n",
    "seq2seq의 모습에서 시작 토큰과 종료 토큰이 있는 모습이 생물의 DNA 유전자를 복제하고 발현하는 모습과 닮았다는 생각이 들었다. \n"
   ]
  }
 ],
 "metadata": {
  "kernelspec": {
   "display_name": "Python 3 (ipykernel)",
   "language": "python",
   "name": "python3"
  },
  "language_info": {
   "codemirror_mode": {
    "name": "ipython",
    "version": 3
   },
   "file_extension": ".py",
   "mimetype": "text/x-python",
   "name": "python",
   "nbconvert_exporter": "python",
   "pygments_lexer": "ipython3",
   "version": "3.9.7"
  }
 },
 "nbformat": 4,
 "nbformat_minor": 5
}
